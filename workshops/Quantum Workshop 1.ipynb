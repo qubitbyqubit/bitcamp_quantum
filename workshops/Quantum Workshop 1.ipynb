{
 "cells": [
  {
   "cell_type": "code",
   "execution_count": 7,
   "id": "17bc1edb",
   "metadata": {
    "slideshow": {
     "slide_type": "skip"
    }
   },
   "outputs": [],
   "source": [
    "# Imports!\n",
    "from qiskit import QuantumCircuit, Aer, IBMQ, execute, providers\n",
    "from qiskit.visualization import plot_histogram"
   ]
  },
  {
   "cell_type": "markdown",
   "id": "5a81b0f4-04bc-40ee-9740-ccd16f60bc63",
   "metadata": {
    "slideshow": {
     "slide_type": "skip"
    }
   },
   "source": [
    "### Instructions for running this notebook:\n",
    "\n",
    "This notebook serves two functions:\n",
    "Firstly it generates our presentation! What you see is automatically converted into the live coding presentation that you'll see in the workshop.\n",
    "Secondly, it serves as a follow along worksheet for you to try out what you see! Any gaps and questions left unanswered will be filled in live during our workshop, try your best to fill in the gaps as we go."
   ]
  },
  {
   "cell_type": "markdown",
   "id": "7d18ea8a-0ad6-4119-9aa5-c27808939fbe",
   "metadata": {
    "slideshow": {
     "slide_type": "slide"
    }
   },
   "source": [
    "## And Now for a Crash Course on Qubits, Circuits, and Qiskit!"
   ]
  },
  {
   "cell_type": "markdown",
   "id": "87b026a3",
   "metadata": {
    "slideshow": {
     "slide_type": "subslide"
    }
   },
   "source": [
    "## If you have not already, get started on this page:\n",
    "\n",
    "www.bit.ly/bitcamp_quantum"
   ]
  },
  {
   "cell_type": "markdown",
   "id": "9a286edb-ab64-46cb-8332-bb924c25c034",
   "metadata": {
    "slideshow": {
     "slide_type": "subslide"
    }
   },
   "source": [
    "## What to expect:\n",
    "1. We will look at Quantum Circuits and the `qiskit` `QuantumCircuit` object\n",
    "2. We will look at what a Quantum Gate is and how to apply them in `qiskit`\n",
    "3. We will look at Quantum Simulation on classical computers and how to test our Quantum Circuits"
   ]
  },
  {
   "cell_type": "markdown",
   "id": "31b89886-6bb8-46c0-aeba-ae0eec4ddb2c",
   "metadata": {
    "slideshow": {
     "slide_type": "slide"
    }
   },
   "source": [
    "# 1. The Quantum Circuit:\n",
    "<img src=\"https://github.com/Plabrum/umd_hackathon/blob/main/static/images/circuit_signpost.png?raw=true\" style=\"width: 70%\">"
   ]
  },
  {
   "cell_type": "markdown",
   "id": "7a7f9659-576a-4806-86f3-38f85f0a4913",
   "metadata": {
    "slideshow": {
     "slide_type": "fragment"
    }
   },
   "source": [
    "We read circuits from **left** to **right**, each horizontal line is a seperate **qubit**, and all qubits are initialized in the $|0\\rangle$ state."
   ]
  },
  {
   "cell_type": "markdown",
   "id": "bcff43bd-0087-4055-8c0e-d2492c40390f",
   "metadata": {
    "slideshow": {
     "slide_type": "slide"
    }
   },
   "source": [
    "### Let's start by importing all the necessary libraries\n",
    "We specifically need maths: `numpy`, quantum: `qiskit`, and graphing ability: `matplotlib`"
   ]
  },
  {
   "cell_type": "markdown",
   "id": "d8f64699-50b3-475e-b84c-7b3d9d27df9f",
   "metadata": {
    "slideshow": {
     "slide_type": "subslide"
    }
   },
   "source": [
    "Today we will be using the IBM Quantum Systems.\n",
    "If you choose to run a local notebook instead of the IBM Quantum Experience you'll need to do this:"
   ]
  },
  {
   "cell_type": "code",
   "execution_count": null,
   "id": "dfa65f4c-bd71-4ce0-b775-9418e61782a1",
   "metadata": {
    "slideshow": {
     "slide_type": "fragment"
    }
   },
   "outputs": [],
   "source": [
    "# Saving your IBM Q Experience\n",
    "my_personal_token = \"copy_your_personal_token_here\"\n",
    "IBMQ.save_account(my_personal_token)"
   ]
  },
  {
   "cell_type": "markdown",
   "id": "3b141c89-f285-4ff1-aa84-1a5a0ce73dd8",
   "metadata": {
    "slideshow": {
     "slide_type": "fragment"
    }
   },
   "source": [
    "Then run this to load in your IBM Q account:"
   ]
  },
  {
   "cell_type": "code",
   "execution_count": 12,
   "id": "7ae7542e-1a77-46fb-be79-181fb62d0253",
   "metadata": {
    "slideshow": {
     "slide_type": "fragment"
    }
   },
   "outputs": [],
   "source": [
    "provider = IBMQ.load_account()"
   ]
  },
  {
   "cell_type": "markdown",
   "id": "ab3eedde-fdaa-49f2-8e4f-10a2fc6b479c",
   "metadata": {
    "slideshow": {
     "slide_type": "slide"
    }
   },
   "source": [
    "# Quantum Gates"
   ]
  },
  {
   "cell_type": "code",
   "execution_count": 3,
   "id": "1ef3bba1-732c-4c65-87ac-95f03f9917ef",
   "metadata": {
    "scrolled": true,
    "slideshow": {
     "slide_type": "subslide"
    }
   },
   "outputs": [
    {
     "data": {
      "image/png": "[encoded data removed]",
      "text/plain": [
       "<Figure size 133.526x84.28 with 1 Axes>"
      ]
     },
     "execution_count": 3,
     "metadata": {},
     "output_type": "execute_result"
    }
   ],
   "source": [
    "qc = QuantumCircuit(1)\n",
    "qc.h(0)\n",
    "qc.draw(\"mpl\")"
   ]
  },
  {
   "cell_type": "markdown",
   "id": "52b521b5-47f7-481a-b160-424e1d1a177f",
   "metadata": {
    "cell_style": "split",
    "hideCode": false,
    "slideshow": {
     "slide_type": "fragment"
    }
   },
   "source": [
    "### Let's see what's happening here on the bloch sphere:\n",
    "\n",
    "So Far we have applied"
   ]
  },
  {
   "cell_type": "markdown",
   "id": "cc3bbf71-98e0-4415-81ed-ec2ad89287b5",
   "metadata": {
    "cell_style": "split",
    "slideshow": {
     "slide_type": "fragment"
    }
   },
   "source": [
    "<img src=\"https://github.com/Plabrum/umd_hackathon/blob/main/static/animations/h_gate.gif?raw=true\" width=35%>"
   ]
  },
  {
   "cell_type": "code",
   "execution_count": null,
   "id": "739dbf41-a286-4463-b0d9-ba501bb78524",
   "metadata": {
    "slideshow": {
     "slide_type": "skip"
    }
   },
   "outputs": [],
   "source": [
    "#### This is a skipped cell (it will not show on the presentation) ####\n",
    "\n",
    "# not necessary to run, this code creates the previous visualization (it takes a while but it is cool) \n",
    "qv.visualize_transition(qc, trace=True)"
   ]
  },
  {
   "cell_type": "markdown",
   "id": "d420eb44-2405-4733-adb0-8c95280b7793",
   "metadata": {
    "slideshow": {
     "slide_type": "slide"
    }
   },
   "source": [
    "## The X gate, aka NOT Gate"
   ]
  },
  {
   "cell_type": "code",
   "execution_count": null,
   "id": "e2fcbc6d-2751-4f1d-8642-6073e7ddfd8f",
   "metadata": {
    "cell_style": "split",
    "slideshow": {
     "slide_type": "fragment"
    }
   },
   "outputs": [],
   "source": [
    "qc2 = QuantumCircuit(1)\n",
    "qc2.x(0)\n",
    "qc2.draw(\"mpl\")"
   ]
  },
  {
   "cell_type": "markdown",
   "id": "c5f5f36d-0884-41ac-96bf-eb4e2f56246d",
   "metadata": {
    "cell_style": "split",
    "slideshow": {
     "slide_type": "fragment"
    }
   },
   "source": [
    "<img src=\"https://github.com/Plabrum/umd_hackathon/blob/main/static/animations/x_gate.gif?raw=true\" width=35%>"
   ]
  },
  {
   "cell_type": "markdown",
   "id": "c71aa5dc-68af-44c4-b841-680d77086497",
   "metadata": {
    "slideshow": {
     "slide_type": "subslide"
    }
   },
   "source": [
    "## The Y gate"
   ]
  },
  {
   "cell_type": "code",
   "execution_count": null,
   "id": "434116d1-c909-4a1a-9e54-efd0d74f8858",
   "metadata": {
    "cell_style": "split",
    "scrolled": true,
    "slideshow": {
     "slide_type": "fragment"
    }
   },
   "outputs": [],
   "source": [
    "qc3 = QuantumCircuit(1)\n",
    "qc3.y(0)\n",
    "qc3.draw(\"mpl\")"
   ]
  },
  {
   "cell_type": "markdown",
   "id": "c55bdad4-274f-43f9-8c4d-85288032d47c",
   "metadata": {
    "cell_style": "split",
    "slideshow": {
     "slide_type": "fragment"
    }
   },
   "source": [
    "<img src=\"https://github.com/Plabrum/umd_hackathon/blob/main/static/animations/y_gate.gif?raw=true\" width=35%>"
   ]
  },
  {
   "cell_type": "markdown",
   "id": "5b0c50a6-27c0-49b8-b22f-3d0491ea280e",
   "metadata": {
    "slideshow": {
     "slide_type": "subslide"
    }
   },
   "source": [
    "## The Z gate, aka the Phase Gate"
   ]
  },
  {
   "cell_type": "code",
   "execution_count": null,
   "id": "25131a72-ca2e-4ce9-bb15-19f13c7acb5c",
   "metadata": {
    "cell_style": "split",
    "slideshow": {
     "slide_type": "fragment"
    }
   },
   "outputs": [],
   "source": [
    "qc4 = QuantumCircuit(1)\n",
    "qc4.z(0)\n",
    "qc4.draw(\"mpl\")"
   ]
  },
  {
   "cell_type": "markdown",
   "id": "5a102930-93f6-44a1-a085-a7e8cb027593",
   "metadata": {
    "cell_style": "split",
    "slideshow": {
     "slide_type": "fragment"
    }
   },
   "source": [
    "<img src=\"https://github.com/Plabrum/umd_hackathon/blob/main/static/animations/z_gate.gif?raw=true\" width=35%>"
   ]
  },
  {
   "cell_type": "markdown",
   "id": "540dd50a-227f-49d4-ad9b-7de77c1e4f4f",
   "metadata": {
    "slideshow": {
     "slide_type": "fragment"
    }
   },
   "source": [
    "Notice anything strange? Nothing seems to happen - this is because rotating an arrow in place will not show anything!"
   ]
  },
  {
   "cell_type": "markdown",
   "id": "0db73883-ebd1-446c-84a5-e6cebbb5e7b3",
   "metadata": {
    "slideshow": {
     "slide_type": "subslide"
    }
   },
   "source": [
    "## Now we can apply an H Gate first"
   ]
  },
  {
   "cell_type": "code",
   "execution_count": null,
   "id": "72649b59-600d-4c51-bdb9-1ed1fa8455bc",
   "metadata": {
    "cell_style": "split",
    "slideshow": {
     "slide_type": "fragment"
    }
   },
   "outputs": [],
   "source": [
    "qc5 = QuantumCircuit(1)\n",
    "qc5.h(0)\n",
    "qc5.z(0)\n",
    "qc5.draw(\"mpl\")"
   ]
  },
  {
   "cell_type": "markdown",
   "id": "6accc0a3-0c94-4c10-8b5c-583a3c770866",
   "metadata": {
    "cell_style": "split",
    "slideshow": {
     "slide_type": "fragment"
    }
   },
   "source": [
    "<img src=\"https://github.com/Plabrum/umd_hackathon/blob/main/static/animations/hz_gate.gif?raw=true\" width=35%>"
   ]
  },
  {
   "cell_type": "markdown",
   "id": "76e20824-9f9e-409d-b40c-4d0f616cf37d",
   "metadata": {
    "slideshow": {
     "slide_type": "slide"
    }
   },
   "source": [
    "### Reversability of Gates"
   ]
  },
  {
   "cell_type": "markdown",
   "id": "21ae61a2-57cf-4aef-b716-ca51374685f9",
   "metadata": {
    "slideshow": {
     "slide_type": "subslide"
    }
   },
   "source": [
    "What happens if we apply 2 of the same gates back to back?"
   ]
  },
  {
   "cell_type": "code",
   "execution_count": null,
   "id": "c3e1ecd6-ffc5-4b97-a690-870c98436401",
   "metadata": {
    "cell_style": "split",
    "slideshow": {
     "slide_type": "fragment"
    }
   },
   "outputs": [],
   "source": [
    "qc6 = QuantumCircuit(1)\n",
    "qc6.y(0)\n",
    "qc6.y(0)\n",
    "qc6.draw(\"mpl\")"
   ]
  },
  {
   "cell_type": "markdown",
   "id": "9d5a5512-0dea-4dba-92b6-c05872c82b95",
   "metadata": {
    "cell_style": "split",
    "slideshow": {
     "slide_type": "fragment"
    }
   },
   "source": [
    "<img src=\"https://github.com/Plabrum/umd_hackathon/blob/main/static/animations/yy_gate.gif?raw=true\" width=35%>"
   ]
  },
  {
   "cell_type": "markdown",
   "id": "8b55a299-902b-423c-9c73-288d2285a0e8",
   "metadata": {
    "slideshow": {
     "slide_type": "subslide"
    }
   },
   "source": [
    "What about 4 gates? Is this a fluke?"
   ]
  },
  {
   "cell_type": "code",
   "execution_count": null,
   "id": "11c9451a-b377-4711-8e0c-c9a2f716659c",
   "metadata": {
    "cell_style": "split",
    "slideshow": {
     "slide_type": "fragment"
    }
   },
   "outputs": [],
   "source": [
    "qc7 = QuantumCircuit(1)\n",
    "qc7.h(0)\n",
    "qc7.y(0)\n",
    "qc7.y(0)\n",
    "qc7.h(0)\n",
    "qc7.draw(\"mpl\")"
   ]
  },
  {
   "cell_type": "markdown",
   "id": "42683522-5504-4aa9-9587-f6f1366b1ba3",
   "metadata": {
    "cell_style": "split",
    "slideshow": {
     "slide_type": "fragment"
    }
   },
   "source": [
    "<img src=\"https://github.com/Plabrum/umd_hackathon/blob/main/static/animations/hyyh_gate.gif?raw=true\" width=35%>"
   ]
  },
  {
   "cell_type": "markdown",
   "id": "838f0e14-a942-40bc-bed5-5a9b6bea68dd",
   "metadata": {
    "cell_style": "center",
    "slideshow": {
     "slide_type": "subslide"
    }
   },
   "source": [
    "### Cool, Right!"
   ]
  },
  {
   "cell_type": "markdown",
   "id": "6010cfcc-855e-4f77-9d6c-e063b6cd7d88",
   "metadata": {
    "slideshow": {
     "slide_type": "slide"
    }
   },
   "source": [
    "# Using Quantum Computers and Simulating Quantum Circuits"
   ]
  },
  {
   "cell_type": "markdown",
   "id": "33c81b34-0c32-4a58-942f-78e84b4e5794",
   "metadata": {
    "slideshow": {
     "slide_type": "subslide"
    }
   },
   "source": [
    "Step 1: Create a quantum circuit with 1 qubit and 1 classical bit"
   ]
  },
  {
   "cell_type": "code",
   "execution_count": 15,
   "id": "ac677b99-ad15-4faf-a90d-6a9733e2ca18",
   "metadata": {
    "slideshow": {
     "slide_type": "fragment"
    }
   },
   "outputs": [],
   "source": [
    "qc = QuantumCircuit(1,1)"
   ]
  },
  {
   "cell_type": "markdown",
   "id": "e14ce7fb-e94e-4cb5-950e-b270b3c4c5b3",
   "metadata": {
    "slideshow": {
     "slide_type": "fragment"
    }
   },
   "source": [
    "Step 2: Add an H gate to your circuit and draw it"
   ]
  },
  {
   "cell_type": "code",
   "execution_count": 16,
   "id": "01b3857f-6e84-4580-a4b4-e61d3f7bc140",
   "metadata": {
    "slideshow": {
     "slide_type": "fragment"
    }
   },
   "outputs": [
    {
     "data": {
      "image/png": "[encoded data removed]",
      "text/plain": [
       "<Figure size 133.526x144.48 with 1 Axes>"
      ]
     },
     "execution_count": 16,
     "metadata": {},
     "output_type": "execute_result"
    }
   ],
   "source": [
    "qc.h(0)\n",
    "qc.draw(\"mpl\")"
   ]
  },
  {
   "cell_type": "markdown",
   "id": "7a8d9d09-a35b-4ab8-9b3d-fd162ec8583c",
   "metadata": {
    "slideshow": {
     "slide_type": "subslide"
    }
   },
   "source": [
    "## Unlike classical circuits we need to add in measurement gates\n",
    "Step 3: Add a measurement to your circuit"
   ]
  },
  {
   "cell_type": "code",
   "execution_count": 17,
   "id": "9dac5086-129f-468f-87d2-af24db83db21",
   "metadata": {
    "slideshow": {
     "slide_type": "fragment"
    }
   },
   "outputs": [
    {
     "data": {
      "image/png": "[encoded data removed]",
      "text/plain": [
       "<Figure size 193.726x144.48 with 1 Axes>"
      ]
     },
     "execution_count": 17,
     "metadata": {},
     "output_type": "execute_result"
    }
   ],
   "source": [
    "qc.measure(0,0)\n",
    "qc.draw(\"mpl\")"
   ]
  },
  {
   "cell_type": "markdown",
   "id": "1372bf19-0309-4630-9b2e-2a6c506509a5",
   "metadata": {
    "slideshow": {
     "slide_type": "subslide"
    }
   },
   "source": [
    "Step 4: Run your circuit using the `QASM` simulator"
   ]
  },
  {
   "cell_type": "code",
   "execution_count": 18,
   "id": "13d85355-b9c1-4106-bfad-42a7fb9d2809",
   "metadata": {
    "slideshow": {
     "slide_type": "fragment"
    }
   },
   "outputs": [],
   "source": [
    "# Setting up and running the QASM simulator.\n",
    "backend = Aer.get_backend('qasm_simulator') # Choosing the simulator we want to use\n",
    "job = execute(qc, backend, shots = 1024) # Running the simulator - specifying the circuit we want to simulate and the number of times we want to simulate it (shots)\n",
    "result = job.result() # Getting the result from the simulator"
   ]
  },
  {
   "cell_type": "code",
   "execution_count": 19,
   "id": "deb62194-b7db-40f8-9ebd-cdef5ef40738",
   "metadata": {},
   "outputs": [
    {
     "name": "stdout",
     "output_type": "stream",
     "text": [
      "Result(backend_name='qasm_simulator', backend_version='0.10.3', qobj_id='bec70ac6-a219-42ba-bbdc-f15952b1f0ae', job_id='57043a32-ada1-4216-94dd-88c60916e2a7', success=True, results=[ExperimentResult(shots=1024, success=True, meas_level=2, data=ExperimentResultData(counts={'0x0': 492, '0x1': 532}), header=QobjExperimentHeader(clbit_labels=[['c', 0]], creg_sizes=[['c', 1]], global_phase=0.0, memory_slots=1, metadata=None, n_qubits=1, name='circuit-1', qreg_sizes=[['q', 1]], qubit_labels=[['q', 0]]), status=DONE, seed_simulator=4113770168, metadata={'noise': 'ideal', 'batched_shots_optimization': False, 'remapped_qubits': False, 'parallel_state_update': 4, 'parallel_shots': 1, 'device': 'CPU', 'active_input_qubits': [0], 'measure_sampling': True, 'num_clbits': 1, 'input_qubit_map': [[0, 0]], 'num_qubits': 1, 'method': 'stabilizer', 'fusion': {'enabled': False}}, time_taken=0.011241623000000001)], date=2022-04-08T13:33:01.774369, status=COMPLETED, status=QobjHeader(backend_name='qasm_simulator', backend_version='0.10.3'), metadata={'mpi_rank': 0, 'time_taken': 0.012065011, 'max_gpu_memory_mb': 0, 'time_taken_execute': 0.01131406, 'max_memory_mb': 8192, 'time_taken_load_qobj': 0.00071223, 'parallel_experiments': 1, 'num_mpi_processes': 1, 'omp_enabled': True}, time_taken=0.013062000274658203)\n"
     ]
    }
   ],
   "source": [
    "print(result)"
   ]
  },
  {
   "cell_type": "markdown",
   "id": "2f30ae41-7d25-4b53-af08-4f3197daf4b0",
   "metadata": {
    "slideshow": {
     "slide_type": "subslide"
    }
   },
   "source": [
    "## What on earth was that...\n",
    "We need to make that human readable:"
   ]
  },
  {
   "cell_type": "code",
   "execution_count": 20,
   "id": "10e17cf9-664b-4372-b64b-fcae64f1a3af",
   "metadata": {
    "scrolled": true,
    "slideshow": {
     "slide_type": "fragment"
    }
   },
   "outputs": [
    {
     "data": {
      "image/png": "[encoded data removed]",
      "text/plain": [
       "<Figure size 504x360 with 1 Axes>"
      ]
     },
     "execution_count": 20,
     "metadata": {},
     "output_type": "execute_result"
    }
   ],
   "source": [
    "counts = result.get_counts() \n",
    "plot_histogram(counts)"
   ]
  },
  {
   "cell_type": "markdown",
   "id": "2fc288b0-fe1a-46b9-98b2-15f5799bbdf8",
   "metadata": {
    "slideshow": {
     "slide_type": "slide"
    }
   },
   "source": [
    "# Enough of this simulator stuff, Let me at the real deal!"
   ]
  },
  {
   "cell_type": "markdown",
   "id": "826762e8-dc91-41b4-be82-5c0f032b3301",
   "metadata": {
    "slideshow": {
     "slide_type": "subslide"
    }
   },
   "source": [
    "There are only a few publicly available computers so we need to wait in a queue to use them"
   ]
  },
  {
   "cell_type": "code",
   "execution_count": 21,
   "id": "c511f09d-4ae1-4384-8a52-b629b3bc4eef",
   "metadata": {
    "slideshow": {
     "slide_type": "fragment"
    }
   },
   "outputs": [
    {
     "name": "stdout",
     "output_type": "stream",
     "text": [
      "ibmq_lima\n"
     ]
    }
   ],
   "source": [
    "from qiskit.providers.ibmq import least_busy\n",
    "backend = least_busy(provider.backends(filters=lambda x: x.configuration().n_qubits >= 2 and \n",
    "                                        not x.configuration().simulator and x.status().operational==True))\n",
    "print(backend)"
   ]
  },
  {
   "cell_type": "code",
   "execution_count": 22,
   "id": "b14848b7-dd94-4106-84f0-0eb3464d63d8",
   "metadata": {
    "slideshow": {
     "slide_type": "fragment"
    }
   },
   "outputs": [
    {
     "data": {
      "image/png": "[encoded data removed]",
      "text/plain": [
       "<Figure size 504x360 with 1 Axes>"
      ]
     },
     "execution_count": 22,
     "metadata": {},
     "output_type": "execute_result"
    }
   ],
   "source": [
    "job = execute(qc, backend, shots = 1024)\n",
    "result = job.result()\n",
    "counts = result.get_counts()\n",
    "plot_histogram(counts)"
   ]
  },
  {
   "cell_type": "markdown",
   "id": "d6aab88a",
   "metadata": {
    "slideshow": {
     "slide_type": "slide"
    }
   },
   "source": [
    "# Recap\n",
    "\n",
    "1. Qubits are quantum bits, acting as an extension of the classical bit\n",
    "2. Qubit States can be represented on the Bloch Sphere\n",
    "3. Gates act as rotations about the Bloch Sphere\n",
    "4. Circuits are a series of gates applied\n",
    "5. Circuits can be simulated and run on real devices"
   ]
  },
  {
   "cell_type": "code",
   "execution_count": null,
   "id": "5d1679f8",
   "metadata": {},
   "outputs": [],
   "source": []
  }
 ],
 "metadata": {
  "celltoolbar": "Slideshow",
  "kernelspec": {
   "display_name": "Python 3 (ipykernel)",
   "language": "python",
   "name": "python3"
  },
  "language_info": {
   "codemirror_mode": {
    "name": "ipython",
    "version": 3
   },
   "file_extension": ".py",
   "mimetype": "text/x-python",
   "name": "python",
   "nbconvert_exporter": "python",
   "pygments_lexer": "ipython3",
   "version": "3.9.7"
  }
 },
 "nbformat": 4,
 "nbformat_minor": 5
}

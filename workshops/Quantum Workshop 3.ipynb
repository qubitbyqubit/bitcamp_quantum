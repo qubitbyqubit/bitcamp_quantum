{
 "cells": [
  {
   "cell_type": "markdown",
   "id": "3af7af44-ddab-422b-ac37-0f21d165eea1",
   "metadata": {
    "slideshow": {
     "slide_type": "skip"
    }
   },
   "source": [
    "<a id=\"intro\"></a>\n",
    "# Reminder About Key Distribution\n",
    "\n",
    "**What is key distribution?** Secure communication relies on the ability of the sender (Alice) to encrypt the message in a way that the receiver (Bob) can decrypt it but not an eavesdropper. This security is often accomplished with the use of a **key**, which is a piece of information known only to the sender and receiver and enables them to decrypt and encrypt the message. If a key can be securely distributed between the sender and receiver, the encrypted message can be securely sent over a public channel, since without the key, the probability of successfully decrypting the message is tiny.\n",
    "\n",
    "Practically, **a key is just a bitstring** - a sequence of 1s and 0s, that is uniquely known only to Alice and Bob, the two communicating parties.\n",
    "\n",
    "Therefore, the problem of secure communication boils down to secure key distribution. QKD is unique because security against eavesdropping is guaranteed by the laws of quantum mechanics, as opposed to the computational complexity of certain functions, which is what is used in classical key distribution. \n",
    "\n",
    "In this notebook, we will develop qiskit code to implement Quantum Key Distribution (QKD). We will look at the same BB84 protocol that we just discussed in the Workshop. "
   ]
  },
  {
   "cell_type": "markdown",
   "id": "85741002-f4ea-43e0-af31-dd3b2cccf69e",
   "metadata": {
    "slideshow": {
     "slide_type": "skip"
    },
    "tags": []
   },
   "source": [
    "## The BB84 protocol\n",
    "\n",
    "The goal of the BB84 protocol is to create and securely share a key, which is just a series of 0s and 1s, between the sender (Alice) and the receiver (Bob). The BB84 protocol achieves this in 3 phases:\n",
    "\n",
    "### Phase 1 - Sending\n",
    "Alice radomly generates a *bitstring* and a list of *bases*. Some of the bits of the bitstring will make it onto the key. The *bases* can be either X or Z, selected randomly. Next, Alice **encodes** each bit of the bistring into a qubit using the corresponding basis in the list of bases, using the following decision scheme: \n",
    "\n",
    "| bit in bitstring | basis | State Alice encodes |\n",
    "|:----------------:|:--------------------------:|:---------------:|\n",
    "| 0 | Z | $$|0\\rangle$$ |\n",
    "| 1 | Z | $$|1\\rangle$$ |\n",
    "| 0 | X | $$|+\\rangle$$ |\n",
    "| 1 | X | $$|-\\rangle$$ |\n",
    "\n",
    "Alice sends each of these encoded qubits to Bob. So, Alice can send Bob one of **four** possible states - $|0\\rangle, |1\\rangle, |+\\rangle$, and $|-\\rangle$.\n",
    "\n",
    "\n",
    "### Phase 2 - Receiving\n",
    "Bob receives this qubit, and needs to measure them to find out their state. Bob generates a random list of bases, either X or Z, and measures each of the qubits he receives in the corresponding basis to generate his own bitstring. If Bob measures the qubit in the same basis that Alice had encoded it in, he will get the same bit as a result of that measurement as Alice had encoded. If Bob measures the qubit in a different basis, he is not guaranteed to get the same bit as Alice. \n",
    "\n",
    "### Phase 3 - Comparing\n",
    "Therefore, after Bob has measured all qubits that Alice sent him, Alice and Bob publically declare their list of bases, and drop the bits from their respective bitstrings for which their **bases do not match**. The remaining bits, for which their bases match, are **guaranteed to match** as long as no one was eavesdropping when Alice sent Bob her qubits. Therefore, to find out if someone was eavesdropping, Alice and Bob can compare the first few bits of their respective keys and see if they match.\n",
    "\n",
    "The figure below summarizes the BB84 protocol:"
   ]
  },
  {
   "cell_type": "code",
   "execution_count": 6,
   "id": "00e8e68f-b68d-45d4-b35e-92f0614e8e83",
   "metadata": {
    "id": "Xp6x4WgdRDIG",
    "slideshow": {
     "slide_type": "skip"
    }
   },
   "outputs": [
    {
     "name": "stdout",
     "output_type": "stream",
     "text": [
      "Libraries imported successfully!\n"
     ]
    }
   ],
   "source": [
    "import numpy as np\n",
    "# Importing standard Qiskit libraries\n",
    "from qiskit import QuantumCircuit, execute, transpile, Aer, IBMQ\n",
    "from qiskit.tools.jupyter import *\n",
    "from qiskit.visualization import *\n",
    "from copy import deepcopy\n",
    "\n",
    "from random import getrandbits\n",
    "\n",
    "print(\"Libraries imported successfully!\")"
   ]
  },
  {
   "cell_type": "markdown",
   "id": "c6db0f7b-9024-4cc1-be98-9cf5fff5559f",
   "metadata": {
    "id": "_wrSvdLuRDII",
    "slideshow": {
     "slide_type": "skip"
    }
   },
   "source": [
    "## Coding cheat sheet:\n",
    "### Defining a quantum circuit: \n",
    "```python\n",
    "qc = QuantumCircuit(1,1) # Define a 1 qubit, 1 classical bit quantum circuit\n",
    "\n",
    "qc.x(0) #Add an X gate\n",
    "qc.h(0) #Add an H gate\n",
    "qc.z(0) #Add a Z gate\n",
    "qc.y(0) #Add a Y gate\n",
    "\n",
    "qc.draw() #Draw the circuit\n",
    "```\n",
    "\n",
    "### Using the qasm simulator:\n",
    "First we have to add measurement gates:\n",
    "\n",
    "``` python\n",
    "qc.measure_all() #adds measurements\n",
    "```\n",
    "Next\n",
    "``` python\n",
    "qsim = Aer.get_backend('qasm_simulator') # Change statevector to qasm\n",
    "job = execute(qc, backend=qsim, shots=1000) # add shots - tell it how many times to run, more shots = lower noise\n",
    "result = job.result()\n",
    "```\n",
    "\n",
    "Lastly, we can visualise the output in histogram form:\n",
    "``` python\n",
    "counts = result.get_counts(qc)\n",
    "plot_histogram(counts)\n",
    "```\n",
    "\n",
    "### Using a real quantum computer:\n",
    "\n",
    "First we need to find the least busy backend:\n",
    "```python\n",
    "IBMQ.load_account()\n",
    "provider = IBMQ.get_provider(hub='ibm-q')\n",
    "backend = least_busy(provider.backends(filters=lambda x: x.configuration().n_qubits >= 2 \n",
    "                                       and not x.configuration().simulator \n",
    "                                       and x.status().operational==True))\n",
    "print(\"least busy backend: \", backend)\n",
    "```\n",
    "\n",
    "Next we can send the job to be run\"\n",
    "``` python\n",
    "job = execute(qc, backend=backend, shots=100)\n",
    "result = job.result()\n",
    "```\n",
    "\n",
    "Lastly, we can again plot the results in the same way:\n",
    "\n",
    "``` python\n",
    "counts = result.get_counts(qc)\n",
    "plot_histogram(counts)\n",
    "```"
   ]
  },
  {
   "cell_type": "markdown",
   "id": "04fe829f-7a79-4c6c-ae36-5b3ba361e01c",
   "metadata": {
    "slideshow": {
     "slide_type": "slide"
    },
    "tags": []
   },
   "source": [
    "<a id=\"protocol\"></a>\n",
    "# Steps in the QKD protocol\n",
    "\n",
    "We will now implement the steps in the BB84 protocol one-by-one."
   ]
  },
  {
   "cell_type": "markdown",
   "id": "47fc733b-650f-4458-a097-03d6b9047d76",
   "metadata": {
    "slideshow": {
     "slide_type": "subslide"
    },
    "tags": []
   },
   "source": [
    "<a id=\"step1\"></a>\n",
    "## Step 1: Alice randomly picks bits\n",
    "\n",
    "Alice needs to randomly select bits that will later get encoded into qubits to send to Bob. Some of these bits will make it onto Alice's (and Bob's) final key.\n",
    "\n",
    "Write a function that takes the length of the key as an input parameter and generates a list called `alice_bits` of randomly selected bits (0s and 1s) using the `getrandbits` function. Store the randomly generated bits as strings in the list."
   ]
  },
  {
   "cell_type": "code",
   "execution_count": 7,
   "id": "3a43bd30-6c22-4119-9ed1-e2bf730f0acf",
   "metadata": {
    "slideshow": {
     "slide_type": "fragment"
    },
    "tags": []
   },
   "outputs": [],
   "source": [
    "# Block 1 - Write a function to generate alice_bits\n",
    "def generate_alice_bits(length):\n",
    "    \n",
    "    #This stores alice's bits\n",
    "    alice_bits = []\n",
    "    \n",
    "    # For the length \n",
    "    for i in range(length):\n",
    "        # We use the function getrandbits to get either a 0 or 1 randomly,\n",
    "        # The \"1\" in the function argument is the number of bits to be generated\n",
    "        alice_bits.append(str(getrandbits(1)))\n",
    "    \n",
    "    # return the string of bits\n",
    "    return alice_bits"
   ]
  },
  {
   "cell_type": "markdown",
   "id": "5be897e2-d785-4464-bf73-5b2c19ebdcef",
   "metadata": {
    "slideshow": {
     "slide_type": "subslide"
    },
    "tags": []
   },
   "source": [
    "\n",
    "## Step 2: Alice randomly picks bases\n",
    "\n",
    "Alice needs to randomly select bases to encode her bits from the previous step. She will pick randomly from two bases - the Z basis and the X basis.\n",
    "\n",
    "Write a function that takes the length of the key as an input parameter and generates a list called `alice_bases` of randomly selected bases (\"X\" and \"Z\"). Store the randomly generated bases as strings in the list."
   ]
  },
  {
   "cell_type": "code",
   "execution_count": 8,
   "id": "32e39ef7-e603-4fe2-920a-c5441e78d99d",
   "metadata": {
    "slideshow": {
     "slide_type": "fragment"
    }
   },
   "outputs": [],
   "source": [
    "# Block 2 - Write a function to generate alice_bases\n",
    "def generate_alice_bases(length):\n",
    "    \n",
    "    #This stores alice's bases\n",
    "    alice_bases = []\n",
    "    \n",
    "    # For the length \n",
    "    for i in range(length):\n",
    "        # We use the function getrandbits to get either a 0 or 1 randomly,\n",
    "        # The \"1\" in the function argument is the number of bits to be generated\n",
    "        basis = getrandbits(1)\n",
    "        if basis == 0:\n",
    "            alice_bases.append(\"Z\")\n",
    "        else:\n",
    "            alice_bases.append(\"X\")\n",
    "        \n",
    "    \n",
    "    # return the string of bases\n",
    "    return alice_bases"
   ]
  },
  {
   "cell_type": "markdown",
   "id": "e805527c-0bc7-4f97-99f5-56286af21e3e",
   "metadata": {
    "slideshow": {
     "slide_type": "slide"
    },
    "tags": []
   },
   "source": [
    "# Create `alice_bits` and `alice_bases`\n",
    "\n",
    "Let's create our `alice_bits` and `alice_bases`. Call the functions you defined above to generate the two lists.\n",
    "\n",
    "We can see what they look like by printing the first 10 elements, this should look like a string and a list of random '1's or '0's (for `alice_bits`) and a string of random 'Z's and 'X's (for `alice_bases`)."
   ]
  },
  {
   "cell_type": "code",
   "execution_count": 9,
   "id": "9540049e-dc31-4212-82f2-f6f470e15e52",
   "metadata": {
    "scrolled": true,
    "slideshow": {
     "slide_type": "fragment"
    }
   },
   "outputs": [
    {
     "name": "stdout",
     "output_type": "stream",
     "text": [
      "alice's first 10 bits:  ['1', '0', '1', '0', '0', '1', '1', '1', '0', '0']\n",
      "alice's first 10 bases:  ['X', 'Z', 'X', 'Z', 'X', 'X', 'Z', 'X', 'Z', 'X']\n"
     ]
    }
   ],
   "source": [
    "# Block 3 - Use your functions to create alice's lists of bits and bases\n",
    "\n",
    "N = 500 # This is number of bits and bases Alice will generate\n",
    "alice_bits = generate_alice_bits(N)\n",
    "alice_bases = generate_alice_bases(N)\n",
    "\n",
    "# Preview the first 10 elements of each:\n",
    "print(\"alice's first 10 bits: \", alice_bits[:10])\n",
    "print(\"alice's first 10 bases: \", alice_bases[:10])"
   ]
  },
  {
   "cell_type": "markdown",
   "id": "5d4157aa-2bb8-409b-8b6d-68a2bc3a834b",
   "metadata": {
    "slideshow": {
     "slide_type": "subslide"
    },
    "tags": []
   },
   "source": [
    "## Step 3: Alice encodes her bits using her bases\n",
    "\n",
    "Alice now uses her random list of bits and bases to generate alist of qubits to send to Bob:\n",
    "In this Challenge we are going to represent each qubit as an individual `QuantumCircuit` object.\n",
    "\n",
    "The table below summarizes the qubit states Alice sends, based on the bit of Alice's `alice_bits` the corresponding basis of `alice_bases`:\n",
    "\n",
    "| Bit in Alice's `alice_bits` | Corresponding basis in `alice_bases` | Qubit state sent |\n",
    "|:----------------:|:-----------------:|:-----------------:|\n",
    "| 0 | Z |$$|0\\rangle$$ |\n",
    "| 0 | X |$$|+\\rangle$$ |\n",
    "| 1 | Z |$$|1\\rangle$$ |\n",
    "| 1 | X |$$|-\\rangle$$ |\n",
    "\n",
    "Write a function to encode `alice_bits` using the corresponding basis in `alice_bases`. The function should return a list of quantum circuits called `encoded_qubits`, with each circuit in the list containing the appropriate gates to prepare the correct qubit state for the corresponding bit and basis. Do not add measurements to the circuits yet - Bob will add measurements to these qubits after receiving them."
   ]
  },
  {
   "cell_type": "code",
   "execution_count": 10,
   "id": "fd747b1b-63f3-49c7-8c61-a2da5f74bb43",
   "metadata": {
    "slideshow": {
     "slide_type": "fragment"
    }
   },
   "outputs": [],
   "source": [
    "# Block 4 - Write a function to encode qubits using alice_bits and alice_bases\n",
    "\n",
    "def encode(alice_bits, alice_bases):\n",
    "    encoded_qubits = []\n",
    "    for i in range(len(alice_bits)):\n",
    "        # create a brand new quantum circuit called qc. Remember that the qubit will be in state |0> by default\n",
    "        qc = QuantumCircuit(1,1)\n",
    "\n",
    "        if alice_bases[i] == \"Z\":\n",
    "            # We are encoding in the z basis\n",
    "            if alice_bits[i] == \"0\":\n",
    "                # We want to encode a |0> state, as states are intialized\n",
    "                # in |0> by default we don't need to add anything here\n",
    "                pass \n",
    "            \n",
    "            elif alice_bits[i] == \"1\":\n",
    "                # We want to encode a |1> state\n",
    "                # We apply an X gate to generate |1>\n",
    "                qc.x(0) \n",
    "                \n",
    "        elif alice_bases[i] == \"X\":\n",
    "            # 1 Means we are encoding in the x basis\n",
    "            if alice_bits[i] == \"0\":\n",
    "                # We apply an H gate to generate |+>\n",
    "                qc.h(0)\n",
    "            elif alice_bits[i] == \"1\":\n",
    "                # We apply an X and an H gate to generate |->\n",
    "                qc.x(0)\n",
    "                qc.h(0)\n",
    "            \n",
    "        # add this quantum circuit to the list of encoded_qubits\n",
    "        encoded_qubits.append(qc)\n",
    "        \n",
    "    return encoded_qubits"
   ]
  },
  {
   "cell_type": "markdown",
   "id": "b5bf211c-d076-465c-a386-e183f5a6dcfa",
   "metadata": {
    "slideshow": {
     "slide_type": "slide"
    },
    "tags": []
   },
   "source": [
    "## Create Alice's encoded_qubits\n",
    "\n",
    "Let's use the function you defined above to create Alice's qubits!"
   ]
  },
  {
   "cell_type": "code",
   "execution_count": 11,
   "id": "1bb06ce6-a7ae-41b5-ba2a-0b5226c4a580",
   "metadata": {
    "slideshow": {
     "slide_type": "fragment"
    }
   },
   "outputs": [],
   "source": [
    "# Block 5 - Call your function from the previous block to create Alice's list encoded_qubits\n",
    "\n",
    "encoded_qubits = encode(alice_bits, alice_bases)"
   ]
  },
  {
   "cell_type": "markdown",
   "id": "2fa66d9f-c8b5-4335-8288-1f3577439cb7",
   "metadata": {
    "slideshow": {
     "slide_type": "slide"
    }
   },
   "source": [
    "<a id=\"step4\"></a>\n",
    "## Step 4: Alice sends qubits to Bob\n",
    "\n",
    "Alice now sends the encoded qubits to Bob. We cannot implement this step in this simulation. In a real application, Alice might send her qubits over an optical fibre, which would be the quantum channel."
   ]
  },
  {
   "cell_type": "markdown",
   "id": "228a5bb3-ae71-43e8-aaf0-4eb5e7583a0c",
   "metadata": {
    "slideshow": {
     "slide_type": "slide"
    },
    "tags": []
   },
   "source": [
    "<a id=\"step2\"></a>\n",
    "## Step 5: Bob randomly selectes bases\n",
    "\n",
    "Bob has received Alice's qubits, and now Bob needs to randomly select bases in which to measure each qubit that Alice sent him.\n",
    "\n",
    "Write a function that takes in the number of bases that Bob needs to pick and returns a list called `bob_bases` of randomly selected measurement bases (either \"X\" or \"Z\")."
   ]
  },
  {
   "cell_type": "code",
   "execution_count": 12,
   "id": "670de1ae-d3e0-4bf9-a630-a98a00c4a539",
   "metadata": {
    "slideshow": {
     "slide_type": "fragment"
    }
   },
   "outputs": [],
   "source": [
    "# Block 6 - Write a function to pick Bob's bases\n",
    "\n",
    "def generate_bob_bases(length):\n",
    "    # Similar to before we store the bases that Bob will measure in a list\n",
    "    bob_bases = []\n",
    "    \n",
    "    for i in range(length):\n",
    "        # Again we use getrandbits to generate a 0 or 1 randomly\n",
    "        basis = getrandbits(1)\n",
    "        if basis == 0:\n",
    "            bob_bases.append(\"Z\")\n",
    "        else:\n",
    "            bob_bases.append(\"X\")\n",
    "        \n",
    "    # return the list of random bases to measure in\n",
    "    return bob_bases"
   ]
  },
  {
   "cell_type": "markdown",
   "id": "6e87c33e-8302-40f3-a353-6879d29a64e8",
   "metadata": {
    "slideshow": {
     "slide_type": "subslide"
    },
    "tags": []
   },
   "source": [
    "## Create Bob's list of bases\n",
    "\n",
    "Create Bob's list of bases `bob_bases` by calling the function you defined in the previous block. \n",
    "\n",
    "We can see what it looks like by printing the first 10 elements, it should look like a list of random 'X's or 'Z's "
   ]
  },
  {
   "cell_type": "code",
   "execution_count": 13,
   "id": "0145fb97-8b76-45f8-abc9-18c80623e100",
   "metadata": {
    "slideshow": {
     "slide_type": "fragment"
    }
   },
   "outputs": [
    {
     "name": "stdout",
     "output_type": "stream",
     "text": [
      "bob's first 10 bases:  ['X', 'X', 'X', 'Z', 'Z', 'Z', 'Z', 'X', 'Z', 'Z']\n"
     ]
    }
   ],
   "source": [
    "# Block 7 - Use your function create bob_bases\n",
    "bob_bases = generate_bob_bases(N)\n",
    "\n",
    "# Preview the first 10 elements of each:\n",
    "print(\"bob's first 10 bases: \", bob_bases[:10])"
   ]
  },
  {
   "cell_type": "markdown",
   "id": "40bed75a-a2fa-4782-9d01-ff1f5d6a6b17",
   "metadata": {
    "slideshow": {
     "slide_type": "slide"
    }
   },
   "source": [
    "<a id=\"step5\"></a>\n",
    "## Steps 6 and 7: Bob measures Alice's qubits using `bob_bases` and decodes them to bits\n",
    "\n",
    "Bob now has to measure the qubits Bob received from Alice using the list of random bases `bob_bases`. Write a function that measures each circuit in `encoded_qubits` in the corresponding basis in `bob_bases`. \n",
    "\n",
    "You will need to correctly add measurements to each of the circuits in `encoded_qubits`, depending on whether the measurement is in the Z basis, or in the X basis. Simulate each circuit using the QASM simulator, with `counts = 1`. Extract the counts from the results of the simulation, and then use the code `measured_bit = max(counts, key=counts.get)` to extract the measured bit (0 or 1) from the counts. Create a list called `bob_bits` that contains the list of bits generate by each measurement. This is Bob's decoded list of bits!"
   ]
  },
  {
   "cell_type": "code",
   "execution_count": 14,
   "id": "f96bf0b9-ef03-43b9-aaf9-673d3f2e4d66",
   "metadata": {
    "slideshow": {
     "slide_type": "fragment"
    }
   },
   "outputs": [],
   "source": [
    "# Block 8 - Write a function to make measurements on `encoded_qubits` using `bob_bases`, and decode the results of the measurements to bits.\n",
    "def measure(bob_bases, encoded_qubits):\n",
    "\n",
    "    \n",
    "    # Stores the results of Bob's measurements\n",
    "    bob_bits = []\n",
    "    backend = Aer.get_backend('qasm_simulator')\n",
    "    for i in range(len(encoded_qubits)):\n",
    "        qc = encoded_qubits[i]\n",
    "        \n",
    "        if bob_bases[i] == \"Z\":\n",
    "            # We want to measure in Z basis\n",
    "            qc.measure(0,0)\n",
    "\n",
    "        elif bob_bases[i] == \"X\":\n",
    "            # We want to measure in X basis\n",
    "            qc.h(0)\n",
    "            qc.measure(0,0)\n",
    "        \n",
    "        # Now that the measurements have been added to the circuit, let's run them.\n",
    "        job = execute(qc, backend=backend, shots = 1) # increase shots if running on hardware\n",
    "        results = job.result()\n",
    "        counts = results.get_counts()\n",
    "        measured_bit = max(counts, key=counts.get)\n",
    "\n",
    "        # Append measured bit to Bob's measured bitstring\n",
    "        bob_bits.append(measured_bit) \n",
    "        \n",
    "    return bob_bits"
   ]
  },
  {
   "cell_type": "markdown",
   "id": "bafeda59-cb9b-48ae-8514-b71b42b0281b",
   "metadata": {
    "slideshow": {
     "slide_type": "subslide"
    }
   },
   "source": [
    "## Measure the qubits that Bob recieved from Alice\n",
    "\n",
    "Let's call the function you wrote in the previous block to perform measurements on the bits Alice sent to Bob, and generate `bob_bits`"
   ]
  },
  {
   "cell_type": "code",
   "execution_count": 15,
   "id": "747b4864-3c7f-4d04-a1e4-ea7663eeb5b6",
   "metadata": {
    "slideshow": {
     "slide_type": "fragment"
    }
   },
   "outputs": [],
   "source": [
    "# Block 9 - Call your function from the previous block to generate Bob's list of measured bits, bob_bits\n",
    "\n",
    "bob_bits = measure(bob_bases, encoded_qubits)"
   ]
  },
  {
   "cell_type": "markdown",
   "id": "5094eb28-1cb8-4190-adf4-a137894088c2",
   "metadata": {
    "slideshow": {
     "slide_type": "slide"
    }
   },
   "source": [
    "<a id=\"step6\"></a>\n",
    "## Steps 8 and 9: Alice and Bob compare their bases and bits, and generate their key\n",
    "\n",
    "In this step, Alice and Bob will compare their list of bases, and throw away the bits for which the corresponding bases do not match. The remaining bits, for which their bases match, are guaranteed to match, and can be used as the key! Finally, to check if there was an eavesdropper, Alice and Bob compare the first few bits of their key.\n",
    "\n",
    "In the block below, write a function that will generate a list called `agreeing_indices` which contains a list of indices at which Alice and Bob's bases (`alice_bases` and `bob_bases`) match."
   ]
  },
  {
   "cell_type": "code",
   "execution_count": 16,
   "id": "f55dfc52-cd57-4a28-b924-eac6813595d9",
   "metadata": {
    "slideshow": {
     "slide_type": "fragment"
    }
   },
   "outputs": [],
   "source": [
    "# Block 10 - Write a function to generate a list agreeing_indices containing the list of indices where alice_bases and bob_bases match\n",
    "def find_matching_bases(alice_bases,bob_bases):\n",
    "    agreeing_indices = []\n",
    "    for i in range(len(alice_bases)):\n",
    "        if alice_bases[i]==bob_bases[i]:\n",
    "            agreeing_indices.append(i)\n",
    "            \n",
    "    return agreeing_indices"
   ]
  },
  {
   "cell_type": "markdown",
   "id": "73922239-a40c-46a9-93de-bf85b921f743",
   "metadata": {
    "slideshow": {
     "slide_type": "subslide"
    }
   },
   "source": [
    "## Finding matching bases\n",
    "\n",
    "Let's use the function you created in the previous block to generate the list `agreeing_indices` from `alice_bases` and `bob_bases` that match.\n",
    "\n",
    "As a check of your implementations so far, try printing the length of `agreeing_indices`. What do you expect this length to be (approximately)? Remember that both Alice and Bob chose randomly from \"Z\" and \"X\" to generate their lists of bases."
   ]
  },
  {
   "cell_type": "code",
   "execution_count": 17,
   "id": "24043d22-1576-40f4-bd37-bf6c51c9fcbd",
   "metadata": {
    "slideshow": {
     "slide_type": "fragment"
    }
   },
   "outputs": [
    {
     "name": "stdout",
     "output_type": "stream",
     "text": [
      "247\n"
     ]
    }
   ],
   "source": [
    "# Block 11 - Call the function you created in the previous block to generate agreeing_indices\n",
    "\n",
    "agreeing_indices = find_matching_bases(alice_bases, bob_bases)\n",
    "\n",
    "print(len(agreeing_indices))"
   ]
  },
  {
   "cell_type": "markdown",
   "id": "0bc68b28-cb07-482d-9b57-c25cf7210a42",
   "metadata": {
    "slideshow": {
     "slide_type": "subslide"
    }
   },
   "source": [
    "<a id=\"step7\"></a>\n",
    "\n",
    "Now that Alice and Bob know which of their bases match, they can use the list `agreeing_indices` to generate their keys!\n",
    "\n",
    "Write a function that uses `agreeing_indices` and a list of bits to generate a key that only contains the bits at the indices given by `agreeing_indices`, and then use that function to generate both Alice and Bob's keys."
   ]
  },
  {
   "cell_type": "code",
   "execution_count": 18,
   "id": "42c3ac94-dc58-4267-993f-28ad2112cae4",
   "metadata": {
    "slideshow": {
     "slide_type": "fragment"
    }
   },
   "outputs": [],
   "source": [
    "# Block 12 - Write a function that uses agreeing_indices and a list of bits to generate a key\n",
    "\n",
    "def generate_key(agreeing_indices, bits):\n",
    "    key = []\n",
    "    for index in agreeing_indices:\n",
    "        key.append(bits[index])\n",
    "    return key"
   ]
  },
  {
   "cell_type": "code",
   "execution_count": 19,
   "id": "bca73ca0-b30d-4110-a4e7-da47c4f80768",
   "metadata": {
    "slideshow": {
     "slide_type": "fragment"
    }
   },
   "outputs": [],
   "source": [
    "# Block 13 - Use your function from the previous block to construct Alice and Bob's keys\n",
    "\n",
    "alice_key = generate_key(agreeing_indices, alice_bits)\n",
    "bob_key = generate_key(agreeing_indices, bob_bits)"
   ]
  },
  {
   "cell_type": "markdown",
   "id": "f264ae8d-0aa1-4997-a664-49ce39b65036",
   "metadata": {
    "slideshow": {
     "slide_type": "subslide"
    }
   },
   "source": [
    "Finally, Alice and Bob compare the first few bits of their key to check if there was an eavesdropper. Since we have not implemented an eavesdropper, we expect all bits of their keys to be the same - check this in the next block! If you get a mismatch, you may need to revisit and correct your code for some of the previous steps."
   ]
  },
  {
   "cell_type": "code",
   "execution_count": 20,
   "id": "4c059cc2-303a-4622-9b38-124221791774",
   "metadata": {
    "scrolled": true,
    "slideshow": {
     "slide_type": "fragment"
    }
   },
   "outputs": [
    {
     "name": "stdout",
     "output_type": "stream",
     "text": [
      "alice_key:  ['1', '1', '0', '1', '1', '0', '1', '0', '0', '0']\n",
      "bob_key:  ['1', '1', '0', '1', '1', '0', '1', '0', '0', '0']\n",
      "Alice's key is equal to Bob's key:  True\n"
     ]
    }
   ],
   "source": [
    "# Block 14 - Check if Alice and Bob's keys are the same.\n",
    "\n",
    "# Preview the first 10 elements of each Key:\n",
    "print(\"alice_key: \", alice_key[:10])\n",
    "print(\"bob_key: \", bob_key[:10])\n",
    "print(\"Alice's key is equal to Bob's key: \", alice_key == bob_key)"
   ]
  },
  {
   "cell_type": "markdown",
   "id": "bcc01bcd-63e3-45b5-969d-9df59efac470",
   "metadata": {
    "slideshow": {
     "slide_type": "slide"
    }
   },
   "source": [
    "# Congratulations! You have implemented the BB84 QKD protocol successfully!"
   ]
  },
  {
   "cell_type": "markdown",
   "id": "0e6f0701-9228-4375-8e7c-a2d823e7d205",
   "metadata": {
    "id": "VZ-iBnLeRDIW",
    "slideshow": {
     "slide_type": "subslide"
    }
   },
   "source": [
    "## Encryping and decrypting messages using the key"
   ]
  },
  {
   "cell_type": "markdown",
   "id": "56042337-e2fe-4f31-b623-b7c60959062d",
   "metadata": {
    "slideshow": {
     "slide_type": "subslide"
    }
   },
   "source": [
    "Once the key is generated, Alice and Bob can use it to send and receive messages! In the block below, we have created two helper functions `encrypt_message` and `decrypt_message` to encrypt and decrypt the message. `encrypt_message` takes the unencrypted message along with the key to encode the message, while `decrypt_message` takes the encrypted message and the key to decrypt the message."
   ]
  },
  {
   "cell_type": "code",
   "execution_count": 21,
   "id": "e4635477-d0eb-445a-8521-a226daa891e6",
   "metadata": {
    "id": "Z7DHwgfiRDIW",
    "slideshow": {
     "slide_type": "subslide"
    }
   },
   "outputs": [],
   "source": [
    "# BLOCK 15 - creating helper functions to encrypt and decrypt messages using QKD\n",
    "\n",
    "import binascii\n",
    "\n",
    "def encrypt_message(unencrypted_string, key):\n",
    "    # Convert ascii string to binary string\n",
    "    bits = bin(int(binascii.hexlify(unencrypted_string.encode('utf-8', 'surrogatepass')), 16))[2:]\n",
    "    bitstring = bits.zfill(8 * ((len(bits) + 7) // 8))\n",
    "    # created the encrypted string using the key\n",
    "    encrypted_string = \"\"\n",
    "    for i in range(len(bitstring)):\n",
    "        encrypted_string += str( (int(bitstring[i])^ int(key[i])) )\n",
    "    return encrypted_string\n",
    "    \n",
    "def decrypt_message(encrypted_bits, key):\n",
    "    # created the unencrypted string using the key\n",
    "    unencrypted_bits = \"\"\n",
    "    for i in range(len(encrypted_bits)):\n",
    "        unencrypted_bits += str( (int(encrypted_bits[i])^ int(key[i])) )\n",
    "    # Convert bitstring into\n",
    "    i = int(unencrypted_bits, 2)\n",
    "    hex_string = '%x' % i\n",
    "    n = len(hex_string)\n",
    "    bits = binascii.unhexlify(hex_string.zfill(n + (n & 1)))\n",
    "    unencrypted_string = bits.decode('utf-8', 'surrogatepass')\n",
    "    return unencrypted_string"
   ]
  },
  {
   "cell_type": "markdown",
   "id": "8a00b166-46b6-4ccb-a255-7aa8a9bfb780",
   "metadata": {
    "slideshow": {
     "slide_type": "subslide"
    }
   },
   "source": [
    "In the block below, use these two functions to encrypt and decrypt the message using the key you had generated earlier!"
   ]
  },
  {
   "cell_type": "code",
   "execution_count": 22,
   "id": "67b4d5db-b808-453e-bbe5-6bef33cfcae2",
   "metadata": {
    "id": "0XOSL09BRDIX",
    "outputId": "baa24cd1-5f01-411c-dd45-e8bd042229e7",
    "slideshow": {
     "slide_type": "fragment"
    }
   },
   "outputs": [
    {
     "name": "stdout",
     "output_type": "stream",
     "text": [
      "Original Messge: QKD is cool!\n",
      "Encrypted message: 100010110110101111001110101100010010001100100000001111000111010111111111110010001011000001100011\n",
      "Decrypted message: QKD is cool!\n"
     ]
    }
   ],
   "source": [
    "# BLOCK 16 - sending and receiving messages using QKD\n",
    "\n",
    "message = \"QKD is cool!\"\n",
    "print(\"Original Messge:\", message)\n",
    "encrypted_message = encrypt_message(message, alice_key)\n",
    "print(\"Encrypted message:\", encrypted_message)\n",
    "decrypted_message = decrypt_message(encrypted_message, bob_key)\n",
    "print(\"Decrypted message:\", decrypted_message)"
   ]
  },
  {
   "cell_type": "markdown",
   "id": "ed16046b-b6d4-4ce0-8f36-7f10b6fdf69b",
   "metadata": {
    "slideshow": {
     "slide_type": "skip"
    }
   },
   "source": [
    "## Optional extensions\n",
    "\n",
    "We did not implement an eavesdropper in this protocol so far. The eavesdropper would intercept Alice's qubits, make measurements on them, and then pass on the qubits (after they have been measured) to Bob to try to evade detection. Can you implement an eavesdropper function and show that in the presence of an eavesdropper, Alice and Bob's keys will not match? Therefore, Alice and Bob can detect the eavesdropper's presence by comparing the first few bits of their keys and checking for any differences!\n",
    "\n",
    "Suppose Alice and Bob check the first 20 bits of their keys. What is the probability of successful eavesdropping?\n",
    "\n",
    "Can you think of any other eavesdropping strategies that would be more successful?"
   ]
  }
 ],
 "metadata": {
  "celltoolbar": "Slideshow",
  "kernelspec": {
   "display_name": "Python 3 (ipykernel)",
   "language": "python",
   "name": "python3"
  },
  "language_info": {
   "codemirror_mode": {
    "name": "ipython",
    "version": 3
   },
   "file_extension": ".py",
   "mimetype": "text/x-python",
   "name": "python",
   "nbconvert_exporter": "python",
   "pygments_lexer": "ipython3",
   "version": "3.9.7"
  }
 },
 "nbformat": 4,
 "nbformat_minor": 5
}

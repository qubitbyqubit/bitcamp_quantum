{
 "cells": [
  {
   "cell_type": "markdown",
   "id": "06ce4a23-d4b7-41d1-9cfa-45cd6271df10",
   "metadata": {
    "id": "KOYP0z0mDt9E"
   },
   "source": [
    "<div style=\"text-align: center; margin: 50px\">\n",
    "<h1 style=\"color: darkblue; background-color: white; text-align: center;\">Qubit by Qubit - Semester 2</h1>\n",
    "<h3>Gates, Measurement, & Circuits Pt. 1</h3>\n",
    "<img src=\"https://raw.githubusercontent.com/Plabrum/qxq_hw/master/images/qubit_logo_doubleQ.png\" style=\"width: 150px\">\n",
    "</div>"
   ]
  },
  {
   "cell_type": "markdown",
   "id": "4ebce5db-57aa-4097-998c-41d0647abd75",
   "metadata": {},
   "source": [
    "## Overview \n",
    "#### Practice\n",
    "1. Single Qubit Gates\n",
    "    * [1a X Gate](#q1a)\n",
    "    * [1b Y Gate](#q1b)\n",
    "    * [1c Z Gate](#q1c)\n",
    "    * [1d Hadamard & Rphi Gate](#q1d)\n",
    "2. Single Qubit Circuit measurements\n",
    "    * [2a Create a superposition](#q2a)\n",
    "    * [2b Draw histogram](#q2b)\n",
    "\n",
    "#### Activities\n",
    "1. Multi Qubit States\n",
    "    * [1a Statvectors](#q3a)\n",
    "    * [1b Statvectors](#q3b)\n",
    "2. Multi Qubit Gates \n",
    "    * [2a Using CNOT](#q4a)\n",
    "    * [2b Draw histogram](#q4b)\n",
    "    * [2c Creating a 2 qubit state](#q4c)\n",
    "    * [2d Draw historgram](#q4d)\n",
    "3. Bell States\n",
    "    * [3a Phi- Circuit](#q5a)\n",
    "    * [3b Phi- Histogram](#q5b)\n",
    "    * [3c Psi+ Circuit](#q5c)\n",
    "    * [3d Psi+ Histogram](#q5d)\n",
    "    * [3e Psi- Circuit](#q5e)\n",
    "    * [3f Psi- Histogram](#q5f)"
   ]
  },
  {
   "cell_type": "code",
   "execution_count": 3,
   "id": "d4538b5a-f5c7-427f-98fb-7069d5fcb05f",
   "metadata": {
    "id": "ILE8h22-Dt9F"
   },
   "outputs": [],
   "source": [
    "# Import qiskit and call it q for short so we can construct,simulate, and run quantum circuits!\n",
    "import qiskit as q\n",
    "# Import Numpy and call it np so we can do maths!\n",
    "import numpy as np\n",
    "# Import the python plotting module of matplotlib and call it plt so we can draw graphs!\n",
    "import matplotlib.pyplot as plt\n",
    "# Tell matplotlib that we are in an Ipython notebook\n",
    "%matplotlib inline"
   ]
  },
  {
   "cell_type": "markdown",
   "id": "229fb464-a4ac-4c59-8e0c-bd925cd69877",
   "metadata": {
    "id": "0OiHrhZjDt9J",
    "tags": []
   },
   "source": [
    "## How to use Qiskit!\n",
    "The `QuantumCircuit` class is qiskit's way of designing a quanutm circuit, it takes two inputs: `qubtis` and `classical bits` which tell the circuit how many qubits and classical bits to use.\n",
    "\n",
    "We can build a quantum circuit in qiskit with the following:\n",
    "```python\n",
    "circ = QuantumCircuit(q,c)\n",
    "```"
   ]
  },
  {
   "cell_type": "code",
   "execution_count": 4,
   "id": "b49c6edf-54fb-40ae-ab93-456ddf527ae0",
   "metadata": {
    "colab": {
     "base_uri": "https://localhost:8080/",
     "height": 140
    },
    "executionInfo": {
     "elapsed": 538,
     "status": "ok",
     "timestamp": 1604279108643,
     "user": {
      "displayName": "Akshay Agarwal",
      "photoUrl": "",
      "userId": "05018767796152976477"
     },
     "user_tz": 300
    },
    "id": "nSv7ktpUDt9J",
    "outputId": "0fd7dc62-582b-43d8-af38-03e88c3015d6"
   },
   "outputs": [],
   "source": [
    "# This creates a quantum circuit object\n",
    "circ = q.QuantumCircuit(1,1)"
   ]
  },
  {
   "cell_type": "markdown",
   "id": "cfc2b96f-ed00-4931-a8c8-2ae2b4787d38",
   "metadata": {},
   "source": [
    "### Drawing and Displaying Circuits\n",
    "\n",
    "Qiskit has a function `circ.draw(output=\"mpl\")` for drawing a diagram of circuits, to make sure the image is displayed in our IPython notebook we can use the `display()` function."
   ]
  },
  {
   "cell_type": "code",
   "execution_count": 5,
   "id": "af37d554-90eb-4f73-9f25-560f98fbdd80",
   "metadata": {},
   "outputs": [
    {
     "data": {
      "image/png": "[encoded data removed]",
      "text/plain": [
       "<Figure size 113.176x144.48 with 1 Axes>"
      ]
     },
     "metadata": {},
     "output_type": "display_data"
    }
   ],
   "source": [
    "# This prints out a diagram of the circuit, the \"mpl\" makes it look pretty!\n",
    "display(circ.draw(output=\"mpl\"))"
   ]
  },
  {
   "cell_type": "markdown",
   "id": "cb17aa48-3277-416d-8e0b-cd1c08cda43f",
   "metadata": {
    "id": "qQ1MRyu3Dt9O"
   },
   "source": [
    "### Adding gates to a quantum circuit\n",
    "This can be done by calling the `circ.gate(qubit)` command. \n",
    "Here the `gate` refers to the gate type, and the `qubit` refers to the qubit (or qubits) on which the gate is acting"
   ]
  },
  {
   "cell_type": "code",
   "execution_count": 6,
   "id": "a6b91903-10e9-49c2-8208-23432a6d6bc2",
   "metadata": {
    "colab": {
     "base_uri": "https://localhost:8080/",
     "height": 140
    },
    "executionInfo": {
     "elapsed": 469,
     "status": "ok",
     "timestamp": 1604279131917,
     "user": {
      "displayName": "Akshay Agarwal",
      "photoUrl": "",
      "userId": "05018767796152976477"
     },
     "user_tz": 300
    },
    "id": "9QYYCbmODt9O",
    "outputId": "3264bb79-1e65-4867-aba5-43adda2661ed"
   },
   "outputs": [
    {
     "data": {
      "image/png": "[encoded data removed]",
      "text/plain": [
       "<Figure size 173.376x144.48 with 1 Axes>"
      ]
     },
     "metadata": {},
     "output_type": "display_data"
    }
   ],
   "source": [
    "# Adding a NOT gate (aka an X gate) to qubit 0\n",
    "circ.h(0)\n",
    "display(circ.draw(output=\"mpl\"))"
   ]
  },
  {
   "cell_type": "markdown",
   "id": "f3dc1757-378c-4285-b05e-9abc8fe9400c",
   "metadata": {
    "id": "FXW3ckDyDt9S"
   },
   "source": [
    "<a id=\"q1a\"></a>\n",
    "# Practice: Implementing single qubit gates\n",
    "## Single Qubit Gates\n",
    "\n",
    "### *The X Gate* \n",
    "The X gate rotates the state vector by $\\pi$ radians about the x-axis on the bloch sphere, it can be represented by the following matrix.\n",
    "$$\n",
    " \\begin{bmatrix}\n",
    "  0 & 1 \\\\\n",
    "  1 & 0\n",
    " \\end{bmatrix}\n",
    "$$\n",
    "\n",
    "The syntax for an X gate is: `circ.x(target)` where `circ` is an initialized `QuantumCircuit` and `target` is the number of the qubit where you would like to apply the gate.\n",
    "\n",
    "**Step 1a:**\n",
    "Initialize a new circuit and add an X gate to it, then draw it."
   ]
  },
  {
   "cell_type": "code",
   "execution_count": null,
   "id": "330d1c5c-215f-4c2c-a864-a2439a6e3730",
   "metadata": {
    "id": "58x_yexwhnTm"
   },
   "outputs": [],
   "source": []
  },
  {
   "cell_type": "markdown",
   "id": "90c5d154-b7ec-4383-b762-9cd37b5dfc4c",
   "metadata": {
    "id": "8o34NMgogUOF"
   },
   "source": [
    "<a id=\"q1b\"></a>\n",
    "\n",
    "### *The Y Gate* \n",
    "\n",
    "The Y gate rotates the state vector by $\\pi$ radians about the y-axis on the bloch sphere, it can be represented by the following matrix.\n",
    "$$\n",
    " \\begin{bmatrix}\n",
    "  0 & -i \\\\\n",
    "  i & 0\n",
    " \\end{bmatrix}\n",
    "$$\n",
    "\n",
    "The syntax for a Y gate is: `circ.y(target)` where `circ` is an initialized `QuantumCircuit` and `target` is the number of the qubit where you would like to apply the gate.\n",
    "\n",
    "**Step 1b:**\n",
    "Initialize a new circuit and add a Y gate to it, then draw it."
   ]
  },
  {
   "cell_type": "code",
   "execution_count": null,
   "id": "0ec5c046-fd86-44fe-bf25-68d0fac170a5",
   "metadata": {
    "id": "AwKqITRfgp8K"
   },
   "outputs": [],
   "source": []
  },
  {
   "cell_type": "markdown",
   "id": "8f207408-5305-4bb7-ba98-89a964df00d7",
   "metadata": {
    "id": "M6JzISQwhIwV",
    "tags": []
   },
   "source": [
    "<a id=\"q1c\"></a>\n",
    "### The Z Gate\n",
    "\n",
    "The Z gate rotates the state vector by $\\pi$ radians about the z-axis on the bloch sphere, it can be represented by the following matrix.\n",
    "$$\n",
    " \\begin{bmatrix}\n",
    "  1 & 0 \\\\\n",
    "  0 & -1\n",
    " \\end{bmatrix}\n",
    "$$\n",
    "\n",
    "The syntax for a Z gate is: `circ.z(target)` where `circ` is an initialized `QuantumCircuit` and `target` is the number of the qubit where you would like to apply the gate.\n",
    "\n",
    "**Step 1c:**\n",
    "Initialize a new circuit and add a Z gate to it, then draw it."
   ]
  },
  {
   "cell_type": "code",
   "execution_count": null,
   "id": "53b8b080-d9e8-4714-9cbb-939da69fb376",
   "metadata": {
    "id": "9cZAPnu3hU-8"
   },
   "outputs": [],
   "source": []
  },
  {
   "cell_type": "markdown",
   "id": "ca781fa5-53fb-4afc-a979-9fba08978be2",
   "metadata": {
    "tags": []
   },
   "source": [
    "<a id=\"q4\"></a>\n",
    "# Activity 4: The Qasm simulator\n",
    "\n",
    "### 4 a) Using the above walkthrough of the `qasm_simulator`, try and simulate the Phi- bell state from the last homework:\n",
    "$$\n",
    "| \\Phi^- \\rangle = \\frac{1}{\\sqrt{2}}(|00\\rangle - |11\\rangle \n",
    "$$\n",
    "\n",
    "Remember that this circuit must be defined with 2 classical and 2 quantum bits: `q.QuantumCircuit(2,2)`"
   ]
  },
  {
   "cell_type": "code",
   "execution_count": 178,
   "id": "e31f74ce-0339-42c5-8b51-4a685260abf0",
   "metadata": {},
   "outputs": [
    {
     "data": {
      "image/png": "[encoded data removed]",
      "text/plain": [
       "<Figure size 479.192x204.68 with 1 Axes>"
      ]
     },
     "metadata": {},
     "output_type": "display_data"
    },
    {
     "data": {
      "image/png": "[encoded data removed]",
      "text/plain": [
       "<Figure size 504x360 with 1 Axes>"
      ]
     },
     "metadata": {},
     "output_type": "display_data"
    }
   ],
   "source": [
    "# Solution\n",
    "phi_minus = q.QuantumCircuit(2,2)\n",
    "phi_minus.x(0)\n",
    "phi_minus.h(0)\n",
    "phi_minus.cx(0,1)\n",
    "phi_minus.measure([0,1], [0,1])\n",
    "display(phi_minus.draw(output=\"mpl\"))\n",
    "backend = q.Aer.get_backend('qasm_simulator')\n",
    "job = q.execute(phi_minus, backend)\n",
    "result = job.result()\n",
    "counts = result.get_counts(phi_minus)\n",
    "graph = q.visualization.plot_histogram(counts)\n",
    "display(graph)"
   ]
  },
  {
   "cell_type": "markdown",
   "id": "3815a660-9c5e-4a0c-8a6b-93a4b4f4383c",
   "metadata": {},
   "source": [
    "### 4b) Now that you're getting used to the noisy simulator, simualte the circuit from question 3 using the noisy simulator.\n",
    "\n",
    "This circuit should look very similar to the statevector simulator due to no superpositions occuring."
   ]
  },
  {
   "cell_type": "code",
   "execution_count": 179,
   "id": "2392ce03-4ae6-4619-91f4-5e213510e620",
   "metadata": {},
   "outputs": [
    {
     "data": {
      "image/png": "[encoded data removed]",
      "text/plain": [
       "<Figure size 599.592x325.08 with 1 Axes>"
      ]
     },
     "metadata": {},
     "output_type": "display_data"
    }
   ],
   "source": [
    "# Solution\n",
    "circ = q.QuantumCircuit(4,4)\n",
    "circ.x(1)\n",
    "op = q.quantum_info.Operator(U)\n",
    "circ.unitary(op, [0,1,2,3], label='U')\n",
    "circ.measure([0,1,2,3], [0,1,2,3])\n",
    "display(circ.draw(output=\"mpl\"))"
   ]
  },
  {
   "cell_type": "code",
   "execution_count": 180,
   "id": "5cfaa4de-2f32-4cfa-bd45-6a3756ea10a5",
   "metadata": {},
   "outputs": [
    {
     "data": {
      "image/png": "[encoded data removed]",
      "text/plain": [
       "<Figure size 504x360 with 1 Axes>"
      ]
     },
     "metadata": {},
     "output_type": "display_data"
    }
   ],
   "source": [
    "#Solution\n",
    "simulator = q.Aer.get_backend('qasm_simulator')\n",
    "job = q.execute(circ, simulator, shots=1000)\n",
    "result = job.result()\n",
    "counts = result.get_counts(circ)\n",
    "graph = q.visualization.plot_histogram(counts)\n",
    "display(graph)"
   ]
  },
  {
   "cell_type": "markdown",
   "id": "c88a940b-3b45-46c3-b14f-be00771686c3",
   "metadata": {},
   "source": [
    "### © 2022 The Coding School\n",
    "\n",
    "**All rights reserved**\n",
    "\n",
    "*Use of this activity is for personal use only. Copying, reproducing, distributing, posting or sharing this activity in any manner with any third party are prohibited under the terms of this registration. All rights not specifically licensed under the registration are reserved.*"
   ]
  }
 ],
 "metadata": {
  "kernelspec": {
   "display_name": "Python 3 (ipykernel)",
   "language": "python",
   "name": "python3"
  },
  "language_info": {
   "codemirror_mode": {
    "name": "ipython",
    "version": 3
   },
   "file_extension": ".py",
   "mimetype": "text/x-python",
   "name": "python",
   "nbconvert_exporter": "python",
   "pygments_lexer": "ipython3",
   "version": "3.9.5"
  }
 },
 "nbformat": 4,
 "nbformat_minor": 5
}

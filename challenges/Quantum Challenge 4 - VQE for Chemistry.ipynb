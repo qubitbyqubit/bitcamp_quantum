{
 "cells": [
  {
   "cell_type": "markdown",
   "id": "4e0ae36e-7cc9-468b-a164-7d376bc65be1",
   "metadata": {},
   "source": [
    "<div class=\"alert alert-info\">\n",
    "    <h1><strong>BitCamp Hackathon:</strong> Quantum Track </h1>\n",
    "    <h2><strong> Challenge 4 -</strong> VQE for Chemistry</h2>\n",
    "</div>"
   ]
  },
  {
   "cell_type": "code",
   "execution_count": 3,
   "id": "36f71169",
   "metadata": {
    "id": "36f71169"
   },
   "outputs": [
    {
     "name": "stdout",
     "output_type": "stream",
     "text": [
      "Libraries imported successfully\n"
     ]
    }
   ],
   "source": [
    "# Imports!\n",
    "from qiskit import Aer, IBMQ\n",
    "from qiskit_nature.drivers import PySCFDriver, UnitsType, Molecule\n",
    "from qiskit_nature.problems.second_quantization import ElectronicStructureProblem\n",
    "from qiskit_nature.converters.second_quantization import QubitConverter\n",
    "from qiskit_nature.mappers.second_quantization import JordanWignerMapper\n",
    "from qiskit_nature.algorithms import GroundStateEigensolver\n",
    "from qiskit_nature.algorithms import VQEUCCFactory\n",
    "from qiskit.algorithms import NumPyMinimumEigensolver\n",
    "from qiskit_optimization.applications import Knapsack\n",
    "from qiskit_optimization.algorithms import MinimumEigenOptimizer\n",
    "from qiskit_optimization.converters import QuadraticProgramToQubo\n",
    "from qiskit.algorithms import VQE\n",
    "from qiskit.circuit.library import TwoLocal\n",
    "from qiskit.utils import QuantumInstance\n",
    "import numpy as np\n",
    "import matplotlib.pyplot as plt\n",
    "from qiskit.circuit.library import EfficientSU2, QAOAAnsatz\n",
    "from qiskit.algorithms.optimizers import SPSA, COBYLA\n",
    "from qiskit.providers.aer.noise import NoiseModel\n",
    "provider = IBMQ.load_account()\n",
    "print(\"Libraries imported successfully\")\n",
    "%matplotlib widget"
   ]
  },
  {
   "cell_type": "markdown",
   "id": "fe6145bb-add0-43c5-8248-7eb7a1462a14",
   "metadata": {},
   "source": [
    "# Finding the structure of a molecule"
   ]
  },
  {
   "cell_type": "markdown",
   "id": "5a594cb9",
   "metadata": {
    "id": "5a594cb9"
   },
   "source": [
    "## Defining the system\n",
    "\n",
    "The first step is to define the molecular system. In the following we ask for the electronic part of a hydrogen molecule.\n",
    "\n",
    "Qiskit is interfaced with different classical codes which are able to find the molecular structure. Interfacing between Qiskit and the following codes is already available: Gaussian, Psi4, PyQuante, PySCF.\n",
    "\n",
    "In the following we set up a PySCF driver, for the hydrogen molecule with the two atoms at a distance of 0.8 angstrom from each other."
   ]
  },
  {
   "cell_type": "code",
   "execution_count": 2,
   "id": "9b2436d8",
   "metadata": {
    "id": "9b2436d8"
   },
   "outputs": [
    {
     "name": "stderr",
     "output_type": "stream",
     "text": [
      "/tmp/ipykernel_61/1377952087.py:5: DeprecationWarning: The PySCFDriver class is deprecated as of version 0.2.0 and will be removed no sooner than 3 months after the release. Instead use the PySCFDriver class from qiskit_nature.drivers.second_quantization.pyscfd.\n",
      "  structure_problem = PySCFDriver(molecule = molecule, unit=UnitsType.ANGSTROM)\n"
     ]
    }
   ],
   "source": [
    "#Block 7 - Specifying the parameters of the molecule\n",
    "molecule = Molecule(geometry=[['H', [0., 0., 0.]],\n",
    "                              ['H', [0., 0., 0.8]]],\n",
    "                     charge=0, multiplicity=1)    # You can vary the distance between the atoms by changing 0.8\n",
    "structure_problem = PySCFDriver(molecule = molecule, unit=UnitsType.ANGSTROM)\n",
    "qubit_converter = QubitConverter(JordanWignerMapper())"
   ]
  },
  {
   "cell_type": "markdown",
   "id": "vL0eVQJbjkXC",
   "metadata": {
    "id": "vL0eVQJbjkXC"
   },
   "source": [
    "## NumPyMinimumEigensolver\n",
    "\n",
    "A solver is the algorithm through which the ground state is computed.\n",
    "\n",
    "Let’s first start with a purely classical example: the NumPy minimum eigensolver. This algorithm exactly solves the structure for the molecule. The hydrogen molecule is small enough that we can solve it exactly using a classical solver. Although the classical solver scales badly, i.e., it takes a very long time to solve larger molecules, it can be used on small systems to check the results of the quantum algorithms.\n",
    "\n",
    "Run the block below to solve the problem using the classical solver."
   ]
  },
  {
   "cell_type": "code",
   "execution_count": 3,
   "id": "JrjLQN7HjfpV",
   "metadata": {
    "colab": {
     "base_uri": "https://localhost:8080/"
    },
    "id": "JrjLQN7HjfpV",
    "outputId": "643e7d1a-47a5-4f40-e3cd-7dc00e4c9f84"
   },
   "outputs": [
    {
     "name": "stdout",
     "output_type": "stream",
     "text": [
      "Total energy =  [-1.13414767]\n"
     ]
    }
   ],
   "source": [
    "#Block 8 - Solving using classical solver\n",
    "method = NumPyMinimumEigensolver()\n",
    "\n",
    "calc = GroundStateEigensolver(qubit_converter, method)\n",
    "result = calc.solve(ElectronicStructureProblem(structure_problem))\n",
    "print(\"Total energy = \", result.total_energies)"
   ]
  },
  {
   "cell_type": "markdown",
   "id": "84fd9ddf-6a18-462d-b971-270c0196d113",
   "metadata": {},
   "source": [
    "The most important number here is the total energy. Keep it in mind! We will compare the result we get with the VQE solver with this result."
   ]
  },
  {
   "cell_type": "markdown",
   "id": "BOADDMGHlV2y",
   "metadata": {
    "id": "BOADDMGHlV2y"
   },
   "source": [
    "## VQE Solver"
   ]
  },
  {
   "cell_type": "markdown",
   "id": "34eceab0-0d62-4602-88a4-d3d38cc337dc",
   "metadata": {},
   "source": [
    "Now, we are going to find the energy of this molecule using VQE. To simulate the performance on a real device, let's create a noise model based on ibmq_belem just as we had done in the benchmarking lab."
   ]
  },
  {
   "cell_type": "code",
   "execution_count": 4,
   "id": "252a286e-0c71-4350-b65e-b0722c7635f2",
   "metadata": {},
   "outputs": [],
   "source": [
    "# Block 9 - Defining a noise model \n",
    "backend_belem = provider.get_backend('ibmq_belem')   # Specifying which backend to use\n",
    "noise_model_belem = NoiseModel.from_backend(backend_belem)  # Creating a noise model from this backend."
   ]
  },
  {
   "cell_type": "markdown",
   "id": "c2076026-1cdf-4504-91f3-0bd13290ec0a",
   "metadata": {},
   "source": [
    "Next, we are going to set up VQE. THis is very similar to the setup we had done for the knapsack problem. Below, we have defined a tunable circuit and a classical optimizer and put those together using Qiskit's VQE function.\n",
    "\n",
    "Don't worry about `QuantumInstance` - it is a way in Qiskit to specify the backend and the noise model together for the VQE simulation."
   ]
  },
  {
   "cell_type": "code",
   "execution_count": 5,
   "id": "8fKcMfjQj0uY",
   "metadata": {
    "colab": {
     "base_uri": "https://localhost:8080/"
    },
    "id": "8fKcMfjQj0uY",
    "outputId": "0a173368-e864-49d7-8a7a-df5393b97875"
   },
   "outputs": [],
   "source": [
    "#Block 10 - Setting up VQE\n",
    "\n",
    "qinstance = QuantumInstance(backend=Aer.get_backend('statevector_simulator'), noise_model = noise_model_belem)\n",
    "\n",
    "tunable_circuit = EfficientSU2(reps= 1, entanglement='full') # This is the tunable circuit - this is the quantum part of VQE\n",
    "optimizer = COBYLA(maxiter=500) # Classical optimizer - this is the classical part of VQE\n",
    "method = VQE(ansatz = tunable_circuit, optimizer = optimizer, quantum_instance = qinstance)# Putting everything together using Qiskit's VQE function"
   ]
  },
  {
   "cell_type": "markdown",
   "id": "6b9c7d73-f464-43dd-9160-b601566f9e19",
   "metadata": {},
   "source": [
    "Finally, it's time to find the energy of this structure and print the results!"
   ]
  },
  {
   "cell_type": "code",
   "execution_count": 6,
   "id": "72132413",
   "metadata": {},
   "outputs": [],
   "source": [
    "#Block 11 - Solving using VQE\n",
    "calc = GroundStateEigensolver(qubit_converter, method)\n",
    "result = calc.solve(ElectronicStructureProblem(structure_problem))\n"
   ]
  },
  {
   "cell_type": "code",
   "execution_count": 7,
   "id": "af291745-9435-44bc-99e0-175bb76e964d",
   "metadata": {},
   "outputs": [
    {
     "name": "stdout",
     "output_type": "stream",
     "text": [
      "Total energy =  [-0.68334768]\n",
      "Error =  [39.91415779]\n"
     ]
    }
   ],
   "source": [
    "# Block 12 - Printing results\n",
    "print(\"Total energy = \", result.total_energies)\n",
    "print(\"Error = \", (-1.13728568 - result.total_energies)/(-1.13728568)*100) "
   ]
  },
  {
   "cell_type": "markdown",
   "id": "33c12d7f-d559-49bb-b6e2-0f1933031296",
   "metadata": {},
   "source": [
    "How does the total energy here compare with the exact solution?"
   ]
  },
  {
   "cell_type": "code",
   "execution_count": 24,
   "id": "7c5e0aa0-6eef-497e-a225-56d8bf95a10f",
   "metadata": {},
   "outputs": [
    {
     "data": {
      "image/png": "[encoded data removed]",
      "text/plain": [
       "<Figure size 688.597x264.88 with 1 Axes>"
      ]
     },
     "execution_count": 24,
     "metadata": {},
     "output_type": "execute_result"
    }
   ],
   "source": [
    "# Block 13 - Drawing the tunable circuit\n",
    "tunable_circuit.decompose().draw()"
   ]
  },
  {
   "cell_type": "markdown",
   "id": "4c94016e-8005-407d-a415-7bcd10082987",
   "metadata": {},
   "source": [
    "# Activities:\n",
    "1. Can you tweak your tunable circuit so that your total energy is closer to the exact solution? \n",
    "2. What is the least number of repetitions that still gives you a good match with the exact solution?\n",
    "3. What happens when there are more repetitions? Do you notice errors?\n",
    "4. Change the distance between the atoms in Block 13. Can you find the distance that minimizes the total energy?"
   ]
  },
  {
   "cell_type": "markdown",
   "id": "7aa8c18a-397f-4aca-ba17-83460b2d4248",
   "metadata": {},
   "source": [
    "# Extra content"
   ]
  },
  {
   "cell_type": "markdown",
   "id": "b6ffb797-9236-4efe-b8b8-3151324212ab",
   "metadata": {},
   "source": [
    "In the lab, we showed you how we can find the energy for one distance between the hydrogen atoms. Now, let's find the energies for many distances, and in the process, find the lowest possible energy. The distance at which we get the lowest energy corresponds to the ground state bond length of the hydrogen molecule!"
   ]
  },
  {
   "cell_type": "code",
   "execution_count": 31,
   "id": "1f2c0844-bba6-4945-a3d5-8490168ddd65",
   "metadata": {},
   "outputs": [
    {
     "name": "stdout",
     "output_type": "stream",
     "text": [
      "Completed 1 out of 13 calculations\n",
      "Completed 2 out of 13 calculations\n",
      "Completed 3 out of 13 calculations\n",
      "Completed 4 out of 13 calculations\n",
      "Completed 5 out of 13 calculations\n",
      "Completed 6 out of 13 calculations\n",
      "Completed 7 out of 13 calculations\n",
      "Completed 8 out of 13 calculations\n",
      "Completed 9 out of 13 calculations\n",
      "Completed 10 out of 13 calculations\n",
      "Completed 11 out of 13 calculations\n",
      "Completed 12 out of 13 calculations\n",
      "Completed 13 out of 13 calculations\n"
     ]
    }
   ],
   "source": [
    "#Block 14 - Creating energy diagram using classical solver\n",
    "method = NumPyMinimumEigensolver()\n",
    "\n",
    "calc = GroundStateEigensolver(qubit_converter, method)\n",
    "classical_energies = []\n",
    "distances = [0.1,0.3,0.5,0.7,0.9,1.1,1.3,1.5,1.7,1.9,2.1,2.3,2.5]\n",
    "\n",
    "for i in range(len(distances)):\n",
    "    # Create a variable to select the value from distances at the current index i\n",
    "    molecule = Molecule(geometry=[['H', [0., 0., 0.]],\n",
    "                                ['H', [0., 0., distances[i]]]], # insert the variable from the previous line here\n",
    "                      charge=0, multiplicity=1)\n",
    "    structure_problem = PySCFDriver(molecule = molecule, unit=UnitsType.ANGSTROM)\n",
    "    result = calc.solve(ElectronicStructureProblem(structure_problem))\n",
    "    classical_energies.append(result.total_energies)\n",
    "    print(\"Completed\", i+1, \"out of\", str(len(distances)), \"calculations\")"
   ]
  },
  {
   "cell_type": "code",
   "execution_count": 32,
   "id": "10b34d77-1ded-4a6e-aa54-83834e191800",
   "metadata": {},
   "outputs": [
    {
     "data": {
      "image/png": "[encoded data removed]",
      "text/plain": [
       "<Figure size 432x288 with 1 Axes>"
      ]
     },
     "metadata": {
      "needs_background": "light"
     },
     "output_type": "display_data"
    }
   ],
   "source": [
    "#Block 15 - Plotting classical energy diagram\n",
    "\n",
    "plt.plot(distances, classical_energies, label=\"Classical Energy of the molecule\")\n",
    "plt.xlabel('Distance between atoms (Angstrom)')\n",
    "plt.ylabel('Energy')\n",
    "plt.legend()\n",
    "plt.show()"
   ]
  },
  {
   "cell_type": "code",
   "execution_count": 33,
   "id": "112d0e01-3196-472a-b8e9-b58ea8ed62d8",
   "metadata": {
    "id": "J1xNJtYYnJFj"
   },
   "outputs": [
    {
     "name": "stdout",
     "output_type": "stream",
     "text": [
      "Completed 1 out of 13 calculations\n",
      "Completed 2 out of 13 calculations\n",
      "Completed 3 out of 13 calculations\n",
      "Completed 4 out of 13 calculations\n",
      "Completed 5 out of 13 calculations\n",
      "Completed 6 out of 13 calculations\n",
      "Completed 7 out of 13 calculations\n",
      "Completed 8 out of 13 calculations\n",
      "Completed 9 out of 13 calculations\n",
      "Completed 10 out of 13 calculations\n",
      "Completed 11 out of 13 calculations\n",
      "Completed 12 out of 13 calculations\n",
      "Completed 13 out of 13 calculations\n"
     ]
    }
   ],
   "source": [
    "#Block 16 - Obtaining VQE energy diagram\n",
    "qinstance = QuantumInstance(backend = Aer.get_backend('statevector_simulator'), noise_model = noise_model_belem)\n",
    "tunable_circuit = EfficientSU2(reps= 1, entanglement='full') # Tunable quantum circuit\n",
    "optimizer = COBYLA(maxiter=100) # Classical optimizer - this is the classical part of VQE\n",
    "method = VQE(ansatz = tunable_circuit, optimizer = optimizer, quantum_instance = qinstance)# Putting everything together using Qiskit's VQE function\n",
    "calc = GroundStateEigensolver(qubit_converter, method)\n",
    "\n",
    "vqe_energies = []\n",
    "distances = [0.1,0.3,0.5,0.7,0.9,1.1,1.3,1.5,1.7,1.9,2.1,2.3,2.5]\n",
    "for i in range(len(distances)):\n",
    "    dist = distances[i]\n",
    "    molecule = Molecule(geometry=[['H', [0., 0., 0.]],\n",
    "                                ['H', [0., 0., dist]]],\n",
    "                      charge=0, multiplicity=1)\n",
    "    structure_problem = PySCFDriver(molecule = molecule, unit=UnitsType.ANGSTROM, basis='sto3g')\n",
    "    result = calc.solve(ElectronicStructureProblem(structure_problem))\n",
    "    vqe_energies.append(result.total_energies)\n",
    "    print(\"Completed\", i+1, \"out of\", str(len(distances)), \"calculations\")"
   ]
  },
  {
   "cell_type": "code",
   "execution_count": 34,
   "id": "e5599022-9e9e-4c12-a8cb-1bb688b66062",
   "metadata": {
    "colab": {
     "base_uri": "https://localhost:8080/",
     "height": 279
    },
    "id": "BBki2NTsxOOX",
    "outputId": "311fb462-b78f-40b8-9373-3c1b8f6fa855"
   },
   "outputs": [
    {
     "data": {
      "image/png": "[encoded data removed]",
      "text/plain": [
       "<Figure size 432x288 with 1 Axes>"
      ]
     },
     "metadata": {
      "needs_background": "light"
     },
     "output_type": "display_data"
    }
   ],
   "source": [
    "#Block 17 - Plotting VQE energy diagram\n",
    "plt.plot(distances, classical_energies, distances, vqe_energies,marker = \"o\")\n",
    "plt.xlabel('Distance between atoms (Angstrom)')\n",
    "plt.ylabel('Energy')\n",
    "plt.legend(['Classical Energy of the molecule','VQE energy of the molecule'])\n",
    "plt.show()"
   ]
  },
  {
   "cell_type": "markdown",
   "id": "e8fed0eb-33da-43f1-adc3-9010a5565bfb",
   "metadata": {},
   "source": [
    "### © 2022 The Coding School\n",
    "\n",
    "**All rights reserved**\n",
    "\n",
    "*Use of this activity is for personal use only. Copying, reproducing, distributing, posting or sharing this activity in any manner with any third party are prohibited under the terms of this registration. All rights not specifically licensed under the registration are reserved.*"
   ]
  }
 ],
 "metadata": {
  "colab": {
   "collapsed_sections": [],
   "name": "Chemistry_Ground_State.ipynb",
   "provenance": []
  },
  "kernelspec": {
   "display_name": "Python 3 (ipykernel)",
   "language": "python",
   "name": "python3"
  },
  "language_info": {
   "codemirror_mode": {
    "name": "ipython",
    "version": 3
   },
   "file_extension": ".py",
   "mimetype": "text/x-python",
   "name": "python",
   "nbconvert_exporter": "python",
   "pygments_lexer": "ipython3",
   "version": "3.9.5"
  },
  "widgets": {
   "application/vnd.jupyter.widget-state+json": {
    "state": {},
    "version_major": 2,
    "version_minor": 0
   }
  }
 },
 "nbformat": 4,
 "nbformat_minor": 5
}

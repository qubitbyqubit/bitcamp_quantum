{
 "cells": [
  {
   "cell_type": "markdown",
   "id": "a8bfbe0f-9605-4eed-beb5-e4e6b84103db",
   "metadata": {},
   "source": [
    "<div class=\"container-fluid\" style=\"background: #1BA39C; margin: wide\">\n",
    "    <div style=\"text-align: center; padding: 50px\">\n",
    "        <img src=\"https://www.qubitbyqubit.org/prod/images/index/qubit_logo_singleQ_white%202.svg\" width=\"100px\" height=\"50px\">\n",
    "        <h1 style=\"color: white; text-align: center;\">Challenge Notebook 3</h1>\n",
    "        <h3 style=\"color:lightgrey\">Finance Portfolio Optimization</h3>\n",
    "    </div>\n",
    "</div>\n",
    "\n",
    "<!-- Note for future, it would be nice to put the QxQ logo in here via github cdn -->"
   ]
  },
  {
   "cell_type": "code",
   "execution_count": 1,
   "id": "ab788979-2856-4a20-907c-0af8ed136f31",
   "metadata": {},
   "outputs": [
    {
     "name": "stderr",
     "output_type": "stream",
     "text": [
      "<frozen importlib._bootstrap>:219: RuntimeWarning: scipy._lib.messagestream.MessageStream size changed, may indicate binary incompatibility. Expected 56 from C header, got 64 from PyObject\n"
     ]
    }
   ],
   "source": [
    "#Imports!\n",
    "\n",
    "from qiskit.algorithms import VQE, QAOA, NumPyMinimumEigensolver\n",
    "from qiskit.algorithms.optimizers import COBYLA, L_BFGS_B, SLSQP, SPSA\n",
    "from qiskit_optimization.algorithms import MinimumEigenOptimizer\n",
    "from qiskit.circuit.library import TwoLocal, EfficientSU2\n",
    "from qiskit import Aer\n",
    "# from qiskit.utils import \n",
    "# from qiskit_optimization.converters import QuadraticProgramToQubo\n",
    "from qiskit_finance.applications.optimization import PortfolioOptimization\n",
    "# from qiskit_finance import QiskitFinanceError\n",
    "from qiskit_finance.data_providers import WikipediaDataProvider\n",
    "from qiskit.utils import algorithm_globals, QuantumInstance\n",
    "import numpy as np\n",
    "import datetime\n",
    "import matplotlib.pyplot as plt\n",
    "import seaborn as sns\n",
    "sns.set_style(\"whitegrid\")\n",
    "%matplotlib widget"
   ]
  },
  {
   "cell_type": "markdown",
   "id": "f87615b9-0694-4b00-81fc-1a55b62caae5",
   "metadata": {
    "tags": []
   },
   "source": [
    "<h1 style=\"text-align: center; color: darkblue\"> Motivating Portfolio Optimization</h1>\n",
    "\n",
    "---\n",
    "\n",
    "**What does it mean to optimize a portfolio?**\n",
    "\n",
    "The goal of a financial asset manager is two do two things:\n",
    "   1. Increase Value\n",
    "   2. Minimize Risk\n",
    "\n",
    "In this excercise we are going to use real stock data from 2017 and out of a selection of 5 stocks decide which two would have been the best to select for our portfolio.\n",
    "\n",
    "<div class=\"alert alert-info\"><b><i>N.B.</i></b> \n",
    "Note that the ideal portfolio would have a steadily increasing straight line. You can think of this as increasing value without ever suffering a decrease.\n",
    "</div>"
   ]
  },
  {
   "cell_type": "markdown",
   "id": "a956ea22-4c0d-486e-8309-fc5ff1b90007",
   "metadata": {},
   "source": [
    "## Using real financial data\n",
    "\n",
    "While the access to real-time data usually requires a payment, it is possible to access historical (adjusted) closing prices via Wikipedia and Quandl free of charge, following registration at: https://www.quandl.com/?modal=register."
   ]
  },
  {
   "cell_type": "code",
   "execution_count": 2,
   "id": "24370f1e-78dc-4c24-894a-61d1de958155",
   "metadata": {},
   "outputs": [],
   "source": [
    "# Helper functions - these functions will help us solve the portfolio optimization problem\n",
    "# Don't worry about the details of these functions for now - focus on where they are used in the code\n",
    "\n",
    "# This function imports stock prices using Quandl and Wikipedia. You can edit the start and end datetimes to consider stock prices over a different time period!\n",
    "# Data is only availble until April 2018, so use time periods earlier than that.\n",
    "def import_stock_prices(stocks):\n",
    "    quandl_token = \"HRXZqqxBka_9huabBgoW\" \n",
    "    wiki = WikipediaDataProvider(\n",
    "                        token = quandl_token,\n",
    "                        tickers = stocks,\n",
    "                        start = datetime.datetime(2016,1,1),\n",
    "                        end = datetime.datetime(2017,1,1))\n",
    "    wiki.run()\n",
    "    return wiki"
   ]
  },
  {
   "cell_type": "markdown",
   "id": "c1ed3376-3691-4e64-b7e8-d312777fc2ca",
   "metadata": {},
   "source": [
    "### Using this function, Let's import some stock data!\n",
    "We will take $n = 5$ assets for this example. Let's take a look at their stock prices over a period of 1 year in 2017. Can you guess which stocks are represented below?"
   ]
  },
  {
   "cell_type": "code",
   "execution_count": 3,
   "id": "2e4241c7-1a93-4700-954a-4ec277c0a277",
   "metadata": {},
   "outputs": [],
   "source": [
    "stocks = [ \"AAPL\", \"NFLX\", \"AMZN\", \"IBM\", \"GOOG\"] # NASDAQ tickers. If you want to consider more stocks, look up their tickers and add them to the list!\n",
    "# Other stock tickers you can add include F, NVDA, GME, etc. \n",
    "stock_prices = import_stock_prices(stocks)  # Using one of the helper functions defined above to import stock prices"
   ]
  },
  {
   "cell_type": "markdown",
   "id": "6133be6e-f8a3-4cd8-a634-578b58d20108",
   "metadata": {
    "tags": []
   },
   "source": [
    "### Looking at the data\n",
    "When working with new data, it's always a good idea to try and view it first - let's look at the __*raw*__ data exactly as it comes in: we've written a function that does this for you:"
   ]
  },
  {
   "cell_type": "code",
   "execution_count": 4,
   "id": "022506fa-d19b-482e-b7a6-f0ea392b4a51",
   "metadata": {},
   "outputs": [],
   "source": [
    "# This function uses matplotlib to plot normalized stock prices\n",
    "def plot_stock_prices(stock_prices, form=\"norm\"):\n",
    "    fig, ax = plt.subplots(figsize=(8,6))\n",
    "    if stock_prices._data:\n",
    "        for (cnt, s) in enumerate(stocks):\n",
    "            start = stock_prices._data[cnt][0]\n",
    "            eq = stock_prices._data[cnt] / start\n",
    "            min_ = np.min(stock_prices._data[cnt])\n",
    "            max_ = np.max(stock_prices._data[cnt])\n",
    "            norm = (stock_prices._data[cnt] - min_)/(max_- min_)\n",
    "            if form == \"norm\": ax.plot(norm, label=s)\n",
    "            elif form == \"eq\": ax.plot(eq, label=s)\n",
    "            elif form == \"raw\": ax.plot(stock_prices._data[cnt], label=s)\n",
    "            else: raise ValueError(\"Invalid 'form' value\")\n",
    "        ax.legend()\n",
    "        key = {\"norm\":\"Normalised\", \"raw\":\"Raw\", \"eq\":\"Equalized\"}\n",
    "        ax.set_title(f\"{key[form]} Yearly Evolution of Stock Prices\")\n",
    "        plt.xticks(rotation=90)\n",
    "        plt.tight_layout()\n",
    "        plt.show()\n",
    "    else:\n",
    "        print('No wiki data loaded.')"
   ]
  },
  {
   "cell_type": "code",
   "execution_count": 5,
   "id": "f86548a9-5d0c-4099-9626-e91afaaca2b3",
   "metadata": {},
   "outputs": [
    {
     "data": {
      "application/vnd.jupyter.widget-view+json": {
       "model_id": "7c2c937180304fd2b72a0e5217610b61",
       "version_major": 2,
       "version_minor": 0
      },
      "text/plain": [
       "Canvas(toolbar=Toolbar(toolitems=[('Home', 'Reset original view', 'home', 'home'), ('Back', 'Back to previous …"
      ]
     },
     "metadata": {},
     "output_type": "display_data"
    },
    {
     "name": "stdout",
     "output_type": "stream",
     "text": [
      "Traceback \u001b[1;36m(most recent call last)\u001b[0m:\n",
      "  Input \u001b[0;32mIn [5]\u001b[0m in \u001b[0;35m<cell line: 1>\u001b[0m\n",
      "    plot_stock_prices(stock_prices, form=\"raw\")\n",
      "  Input \u001b[0;32mIn [4]\u001b[0m in \u001b[0;35mplot_stock_prices\u001b[0m\n",
      "    plt.tight_layout()\n",
      "  File \u001b[0;32m/opt/conda/lib/python3.8/site-packages/matplotlib/pyplot.py:2302\u001b[0m in \u001b[0;35mtight_layout\u001b[0m\n",
      "    return gcf().tight_layout(pad=pad, h_pad=h_pad, w_pad=w_pad, rect=rect)\n",
      "  File \u001b[0;32m/opt/conda/lib/python3.8/site-packages/matplotlib/figure.py:3195\u001b[0m in \u001b[0;35mtight_layout\u001b[0m\n",
      "    renderer = _get_renderer(self)\n",
      "  File \u001b[0;32m/opt/conda/lib/python3.8/site-packages/matplotlib/backend_bases.py:1544\u001b[0m in \u001b[0;35m_get_renderer\u001b[0m\n",
      "    print_method(io.BytesIO())\n",
      "  File \u001b[0;32m/opt/conda/lib/python3.8/site-packages/matplotlib/backend_bases.py:1648\u001b[0m in \u001b[0;35mwrapper\u001b[0m\n",
      "    return func(*args, **kwargs)\n",
      "  File \u001b[0;32m/opt/conda/lib/python3.8/site-packages/matplotlib/_api/deprecation.py:412\u001b[0m in \u001b[0;35mwrapper\u001b[0m\n",
      "    return func(*inner_args, **inner_kwargs)\n",
      "  File \u001b[0;32m/opt/conda/lib/python3.8/site-packages/matplotlib/backends/backend_agg.py:540\u001b[0m in \u001b[0;35mprint_png\u001b[0m\n",
      "    FigureCanvasAgg.draw(self)\n",
      "  File \u001b[0;32m/opt/conda/lib/python3.8/site-packages/matplotlib/backends/backend_agg.py:433\u001b[0m in \u001b[0;35mdraw\u001b[0m\n",
      "    with RendererAgg.lock, \\\n",
      "  File \u001b[0;32m/opt/conda/lib/python3.8/contextlib.py:113\u001b[0m in \u001b[0;35m__enter__\u001b[0m\n",
      "    return next(self.gen)\n",
      "  File \u001b[0;32m/opt/conda/lib/python3.8/site-packages/matplotlib/backend_bases.py:3033\u001b[0m in \u001b[0;35m_wait_cursor_for_draw_cm\u001b[0m\n",
      "    self.canvas.set_cursor(self._lastCursor)\n",
      "  File \u001b[0;32m/opt/conda/lib/python3.8/site-packages/matplotlib/backends/backend_webagg_core.py:210\u001b[0m in \u001b[0;35mset_cursor\u001b[0m\n",
      "    self.send_event('cursor', cursor=cursor)\n",
      "  File \u001b[0;32m/opt/conda/lib/python3.8/site-packages/matplotlib/backends/backend_webagg_core.py:392\u001b[0m in \u001b[0;35msend_event\u001b[0m\n",
      "    self.manager._send_event(event_type, **kwargs)\n",
      "  File \u001b[0;32m/opt/conda/lib/python3.8/site-packages/matplotlib/backends/backend_webagg_core.py:541\u001b[0m in \u001b[0;35m_send_event\u001b[0m\n",
      "    s.send_json(payload)\n",
      "\u001b[1;36m  File \u001b[1;32m/opt/conda/lib/python3.8/site-packages/ipympl/backend_nbagg.py:217\u001b[1;36m in \u001b[1;35msend_json\u001b[1;36m\u001b[0m\n",
      "\u001b[1;33m    self._cursor = cursors_str[content['cursor']]\u001b[0m\n",
      "\u001b[1;31mKeyError\u001b[0m\u001b[1;31m:\u001b[0m 'default'\n",
      "\n",
      "Use %tb to get the full traceback.\n"
     ]
    },
    {
     "data": {
      "text/html": [
       "\n",
       "<style>\n",
       ".button {\n",
       "  border: none;\n",
       "  color: white;\n",
       "  padding: 4px 8px;\n",
       "  text-align: center;\n",
       "  text-decoration: none;\n",
       "  display: inline-block;\n",
       "  font-size: 12px;\n",
       "  margin: 4px 2px;\n",
       "  transition-duration: 0.2s;\n",
       "  cursor: pointer;\n",
       "}\n",
       ".iqx-button {\n",
       "  background-color: #0f62fe; \n",
       "  color: white; \n",
       "}\n",
       ".iqx-button:hover {\n",
       "  background-color: #0043ce;\n",
       "  color: white;\n",
       "}\n",
       "</style>\n",
       "<a href=\"https://stackoverflow.com/search?q=KeyError: default\" target='_blank'><button class='button iqx-button'>Search for solution online</button></a>\n"
      ],
      "text/plain": [
       "<IPython.core.display.HTML object>"
      ]
     },
     "metadata": {},
     "output_type": "display_data"
    }
   ],
   "source": [
    "plot_stock_prices(stock_prices, form=\"raw\")"
   ]
  },
  {
   "cell_type": "markdown",
   "id": "eaf0285a-7845-4f0f-899d-18fc9b421b0b",
   "metadata": {},
   "source": [
    "### Initial observations on the raw data\n",
    "It's important to notice that a share of `AMZN` and `GOOG` costs a lot more than `AAPL`, `IBM`, or `GOOG`. This graph makes it look like `AMZN` and `GOOG` increased by a lot more, but thats only the *dollar amount* what we really care about is the amount they increased *compared* to their starting price.\n",
    "\n",
    "Therefore, this raw view of the data is relatively unhelpful.\n",
    "\n",
    "### Overall visualising financial data is tricky\n",
    "\n",
    "Instead let's equalize their starting points, that way we can imagine that if we invested \\$1 in January we can see how much that single dollar would be worth at the end of the year, regardless of the initial share price."
   ]
  },
  {
   "cell_type": "code",
   "execution_count": 6,
   "id": "1b5cad1c-2c57-4e7a-9204-e3e5c8b2aa83",
   "metadata": {},
   "outputs": [
    {
     "data": {
      "application/vnd.jupyter.widget-view+json": {
       "model_id": "b188bf4a15ec4938ae220123ca45a681",
       "version_major": 2,
       "version_minor": 0
      },
      "text/plain": [
       "Canvas(toolbar=Toolbar(toolitems=[('Home', 'Reset original view', 'home', 'home'), ('Back', 'Back to previous …"
      ]
     },
     "metadata": {},
     "output_type": "display_data"
    },
    {
     "name": "stdout",
     "output_type": "stream",
     "text": [
      "Traceback \u001b[1;36m(most recent call last)\u001b[0m:\n",
      "  Input \u001b[0;32mIn [6]\u001b[0m in \u001b[0;35m<cell line: 2>\u001b[0m\n",
      "    plot_stock_prices(stock_prices, form=\"eq\")\n",
      "  Input \u001b[0;32mIn [4]\u001b[0m in \u001b[0;35mplot_stock_prices\u001b[0m\n",
      "    plt.tight_layout()\n",
      "  File \u001b[0;32m/opt/conda/lib/python3.8/site-packages/matplotlib/pyplot.py:2302\u001b[0m in \u001b[0;35mtight_layout\u001b[0m\n",
      "    return gcf().tight_layout(pad=pad, h_pad=h_pad, w_pad=w_pad, rect=rect)\n",
      "  File \u001b[0;32m/opt/conda/lib/python3.8/site-packages/matplotlib/figure.py:3195\u001b[0m in \u001b[0;35mtight_layout\u001b[0m\n",
      "    renderer = _get_renderer(self)\n",
      "  File \u001b[0;32m/opt/conda/lib/python3.8/site-packages/matplotlib/backend_bases.py:1544\u001b[0m in \u001b[0;35m_get_renderer\u001b[0m\n",
      "    print_method(io.BytesIO())\n",
      "  File \u001b[0;32m/opt/conda/lib/python3.8/site-packages/matplotlib/backend_bases.py:1648\u001b[0m in \u001b[0;35mwrapper\u001b[0m\n",
      "    return func(*args, **kwargs)\n",
      "  File \u001b[0;32m/opt/conda/lib/python3.8/site-packages/matplotlib/_api/deprecation.py:412\u001b[0m in \u001b[0;35mwrapper\u001b[0m\n",
      "    return func(*inner_args, **inner_kwargs)\n",
      "  File \u001b[0;32m/opt/conda/lib/python3.8/site-packages/matplotlib/backends/backend_agg.py:540\u001b[0m in \u001b[0;35mprint_png\u001b[0m\n",
      "    FigureCanvasAgg.draw(self)\n",
      "  File \u001b[0;32m/opt/conda/lib/python3.8/site-packages/matplotlib/backends/backend_agg.py:433\u001b[0m in \u001b[0;35mdraw\u001b[0m\n",
      "    with RendererAgg.lock, \\\n",
      "  File \u001b[0;32m/opt/conda/lib/python3.8/contextlib.py:113\u001b[0m in \u001b[0;35m__enter__\u001b[0m\n",
      "    return next(self.gen)\n",
      "  File \u001b[0;32m/opt/conda/lib/python3.8/site-packages/matplotlib/backend_bases.py:3033\u001b[0m in \u001b[0;35m_wait_cursor_for_draw_cm\u001b[0m\n",
      "    self.canvas.set_cursor(self._lastCursor)\n",
      "  File \u001b[0;32m/opt/conda/lib/python3.8/site-packages/matplotlib/backends/backend_webagg_core.py:210\u001b[0m in \u001b[0;35mset_cursor\u001b[0m\n",
      "    self.send_event('cursor', cursor=cursor)\n",
      "  File \u001b[0;32m/opt/conda/lib/python3.8/site-packages/matplotlib/backends/backend_webagg_core.py:392\u001b[0m in \u001b[0;35msend_event\u001b[0m\n",
      "    self.manager._send_event(event_type, **kwargs)\n",
      "  File \u001b[0;32m/opt/conda/lib/python3.8/site-packages/matplotlib/backends/backend_webagg_core.py:541\u001b[0m in \u001b[0;35m_send_event\u001b[0m\n",
      "    s.send_json(payload)\n",
      "\u001b[1;36m  File \u001b[1;32m/opt/conda/lib/python3.8/site-packages/ipympl/backend_nbagg.py:217\u001b[1;36m in \u001b[1;35msend_json\u001b[1;36m\u001b[0m\n",
      "\u001b[1;33m    self._cursor = cursors_str[content['cursor']]\u001b[0m\n",
      "\u001b[1;31mKeyError\u001b[0m\u001b[1;31m:\u001b[0m 'default'\n",
      "\n",
      "Use %tb to get the full traceback.\n"
     ]
    },
    {
     "data": {
      "text/html": [
       "\n",
       "<style>\n",
       ".button {\n",
       "  border: none;\n",
       "  color: white;\n",
       "  padding: 4px 8px;\n",
       "  text-align: center;\n",
       "  text-decoration: none;\n",
       "  display: inline-block;\n",
       "  font-size: 12px;\n",
       "  margin: 4px 2px;\n",
       "  transition-duration: 0.2s;\n",
       "  cursor: pointer;\n",
       "}\n",
       ".iqx-button {\n",
       "  background-color: #0f62fe; \n",
       "  color: white; \n",
       "}\n",
       ".iqx-button:hover {\n",
       "  background-color: #0043ce;\n",
       "  color: white;\n",
       "}\n",
       "</style>\n",
       "<a href=\"https://stackoverflow.com/search?q=KeyError: default\" target='_blank'><button class='button iqx-button'>Search for solution online</button></a>\n"
      ],
      "text/plain": [
       "<IPython.core.display.HTML object>"
      ]
     },
     "metadata": {},
     "output_type": "display_data"
    }
   ],
   "source": [
    "# form=\"eq\" tells our plotting function that we want the starting values to be equalized at the start\n",
    "plot_stock_prices(stock_prices, form=\"eq\")"
   ]
  },
  {
   "cell_type": "markdown",
   "id": "ac174e58-109b-46af-bdf9-ffbf3ad901e4",
   "metadata": {},
   "source": [
    "## The Intuitive Answer\n",
    "Looking at this graph we can see that if we had invested $\\$1$ into `IBM` at the start of the year we would end the year with around $\\$1.25$. That's an enourmous $25%$ increase! \n",
    "\n",
    "However, at several points during the year the stock decreases in value. We can intuitively see that by combining both the `AMZN` and `IBM` stocks we could \"smooth-out\" the graph and reduce our risk so that we get closer to that idealized steadily increasing flat line. \n",
    "\n",
    "This is what is known as portfolio optimization. We can computationally calculate which investments will have the highest return while minimizsing the risk."
   ]
  },
  {
   "cell_type": "markdown",
   "id": "70755fb2-7e1c-4931-9329-ab5cad1341e1",
   "metadata": {
    "tags": []
   },
   "source": [
    "<h1 style=\"text-align: center; color: darkblue\"> Calculating the Optimal Portfolio</h1>\n",
    "\n",
    "---\n",
    "\n",
    "Here, we show how to solve a **mean-variance portfolio optimization problem** for $n$ assets.\n",
    "\n",
    "Portfolios can be analyzed in a mean-variance framework. We can quantify how risky a selection of investments are by looking at the return variance, and calculate the lowest possible return variance consistent with that investor's chosen level of expected return (called a minimum-variance portfolio).\n",
    "\n",
    "Under mean-variance analysis, it can be shown that every minimum-variance portfolio given a particular expected return (that is, every efficient portfolio) can be formed as a combination of any two efficient portfolios. If the investor's optimal portfolio has an expected return that is between the expected returns on two efficient benchmark portfolios, then that investor's portfolio can be characterized as consisting of positive quantities of the two benchmark portfolios."
   ]
  },
  {
   "cell_type": "markdown",
   "id": "699c61a8-f576-472a-9c7e-e078674adca2",
   "metadata": {
    "tags": []
   },
   "source": [
    "## Portfolio optimization problem\n",
    "\n",
    "The mean-variance portfolio optimization problem for $n$ assets is defined as:\n",
    "\n",
    "$$\\min\\limits_{x\\in\\{0,1\\}^n}qx^T\\Sigma x-\\mu^Tx$$\n",
    "\n",
    "$$\\texttt{subject to: }1^Tx=B$$\n",
    "\n",
    "where:\n",
    "\n",
    "$x\\in\\{0,1\\}^n$ denotes the vector of binary decision variables, which indicate which assets to pick ($x[i]=1$) and which not to pick ($x[i]=0$),\n",
    "\n",
    "$\\mu\\in\\mathbb{R}^n$ defines the expected returns for the assets,\n",
    "\n",
    "$\\Sigma\\in\\mathbb{R}^{n\\times n}$ specifies the covariances between the assets,\n",
    "\n",
    "$q>0$ controls the risk appetite of the decision maker,\n",
    "\n",
    "$B$ denotes the budget, i.e. the number of assets to be selected out of $n$."
   ]
  },
  {
   "cell_type": "markdown",
   "id": "29bf37cf-dbb0-49b6-94e1-b3241e165766",
   "metadata": {},
   "source": [
    "## Let's form this into a solvable problem!\n",
    "We are going to use `qiskits` pre-made `PortfolioOptimization` class. What it does is turn our stock price data into a solvable **quadratic program** which we will call `qp`."
   ]
  },
  {
   "cell_type": "code",
   "execution_count": 7,
   "id": "af59f06a-535b-440d-81bc-6ddf1d21f38f",
   "metadata": {},
   "outputs": [],
   "source": [
    "#num of assets (length of our NASDAQ issues array)\n",
    "num_assets = len(stocks)\n",
    "\n",
    "# set budget - how many stocks do you want to buy?\n",
    "budget = 2\n",
    "\n",
    "# Defining the portfolio optimization problem\n",
    "portfolio = PortfolioOptimization(expected_returns=stock_prices.get_period_return_mean_vector(),\n",
    "                                  covariances=stock_prices.get_period_return_covariance_matrix(),\n",
    "                                  risk_factor=0.2, budget=budget)\n",
    "\n",
    "# This creates a quadratic program, which is the form in which the problem can be directly\n",
    "# passed to Qiskit's solvers\n",
    "qp = portfolio.to_quadratic_program()"
   ]
  },
  {
   "cell_type": "markdown",
   "id": "521fe854-5a8f-4126-aaa0-811fa88560d6",
   "metadata": {},
   "source": [
    "Now our `qp` variable contains all the information we need to make this problem solvable"
   ]
  },
  {
   "cell_type": "markdown",
   "id": "c6b2f1b4-89f8-4109-9096-5cb854061157",
   "metadata": {
    "tags": []
   },
   "source": [
    "# Let's solve it together using a Classical Solver\n",
    "\n",
    "### Classical Solver: NumPyMinimumEigensolver \n",
    "\n",
    "Let's solve the problem using the same classical solver we used above for the knapsack problem. \n",
    "\n",
    "**Reading the result of the solver**: The solver will return a list of 0s and 1s as the optimal knapsack. 0 means that the corresponding stock should not be picked for our portfolio, and 1 means that it should be picked. Therefore, an optimal solution of the form \\[0 1 1 0 0\\] means that we should pick stocks 2 and 3.\n",
    "\n",
    "This is hard to read so we've two functions for you called `display_values` which prints out the selected stocks and `plot_portfolio_against_market` which draws a graph of the chosen stocks, their combined portfolio, and the rest of the stocks in the market"
   ]
  },
  {
   "cell_type": "code",
   "execution_count": 8,
   "id": "54fc2c1c-5e78-4750-82cf-edec9e2dabbe",
   "metadata": {},
   "outputs": [],
   "source": [
    "# This Function displays teh result of a VQE or Classical EigenSolver\n",
    "def display_values(vqe_result, stocks):\n",
    "    lines = []\n",
    "    for result in vqe_result.samples[:5]:\n",
    "            qubits, value, probability = result.x, result.fval, result.probability\n",
    "            q_str = str(qubits.astype(int)).ljust(16)\n",
    "            arr = np.array(qubits)\n",
    "            opt = [str(stock[0])+' ' for stock in np.take(stocks, np.argwhere(arr))]\n",
    "            opt_str = \"\".join(opt).ljust(16)\n",
    "            lines.append((opt_str, f'{q_str} {opt_str} {round(value,4)} \\t {round(probability,4)}'))\n",
    "\n",
    "    print(f' Optimal Stock Combination: {lines[0][0]}')\n",
    "    print('\\n------------------------ Top Results ------------------------')\n",
    "    print('qubits \\t\\t selection \\t value \\t\\t probability')\n",
    "    print('--------------------------------------------------------------')\n",
    "    [print(p[1]) for p in lines]\n",
    "    print('--------------------------------------------------------------')\n",
    "\n",
    "# This function draws the value of the portfolio against other the stocks\n",
    "def plot_portfolio_against_market(result, stock_prices):\n",
    "    portfolio_sel = np.argwhere(result.samples[0].x).reshape(-1)\n",
    "    fig, ax = plt.subplots(figsize=(8,6))\n",
    "    if stock_prices._data:\n",
    "        portfolio_sum = []\n",
    "        for (cnt, s) in enumerate(stocks):\n",
    "            start = stock_prices._data[cnt][0]\n",
    "            eq = stock_prices._data[cnt] / start\n",
    "            if cnt in portfolio_sel:\n",
    "                portfolio_sum.append(eq)\n",
    "                ax.plot(eq, label=f\"{s} (Selected)\", linestyle=\"--\", alpha=0.5)\n",
    "            else:\n",
    "                ax.plot(eq, label=s, alpha=0.15)\n",
    "        sab = sum(portfolio_sum)\n",
    "        # This has no purpose besides shifting the color because I don't like brown\n",
    "        next(ax._get_lines.prop_cycler)   \n",
    "        ax.plot(sab/2, label=\"Portfolio Value\")\n",
    "        ax.set_title(\"Portfolio Performance\") \n",
    "        ax.legend()\n",
    "        plt.xticks(rotation=90)\n",
    "        plt.tight_layout()\n",
    "        plt.show()\n",
    "\n",
    "    else:\n",
    "        print('No wiki data loaded.')"
   ]
  },
  {
   "cell_type": "code",
   "execution_count": 9,
   "id": "51c7ce1b-5bcf-48f1-a583-521b1f16ae1a",
   "metadata": {},
   "outputs": [],
   "source": [
    "exact_mes = NumPyMinimumEigensolver() # Specifying the classical solver we want to use - NumPyMinimumEigensolver\n",
    "exact_eigensolver = MinimumEigenOptimizer(exact_mes) \n",
    "result_classical = exact_eigensolver.solve(qp) # Solving the problem using the classical solver"
   ]
  },
  {
   "cell_type": "markdown",
   "id": "64b0bc1f-7cdf-41cb-a44c-5cdd46afc065",
   "metadata": {},
   "source": [
    "### Display the results\n",
    "This shows the calculated optimal selection as well as the performance of the portfolio compared to the rest of the stocks in our market"
   ]
  },
  {
   "cell_type": "code",
   "execution_count": 10,
   "id": "8d4e22cd-a896-48ff-8128-ac0ebda50a2e",
   "metadata": {},
   "outputs": [
    {
     "name": "stdout",
     "output_type": "stream",
     "text": [
      " Optimal Stock Combination: AMZN IBM        \n",
      "\n",
      "------------------------ Top Results ------------------------\n",
      "qubits \t\t selection \t value \t\t probability\n",
      "--------------------------------------------------------------\n",
      "[0 0 1 1 0]      AMZN IBM         -0.0017 \t 1.0\n",
      "--------------------------------------------------------------\n"
     ]
    },
    {
     "data": {
      "application/vnd.jupyter.widget-view+json": {
       "model_id": "4bd082afb6da46018afc5595401a657b",
       "version_major": 2,
       "version_minor": 0
      },
      "text/plain": [
       "Canvas(toolbar=Toolbar(toolitems=[('Home', 'Reset original view', 'home', 'home'), ('Back', 'Back to previous …"
      ]
     },
     "metadata": {},
     "output_type": "display_data"
    },
    {
     "name": "stdout",
     "output_type": "stream",
     "text": [
      "Traceback \u001b[1;36m(most recent call last)\u001b[0m:\n",
      "  Input \u001b[0;32mIn [10]\u001b[0m in \u001b[0;35m<cell line: 2>\u001b[0m\n",
      "    plot_portfolio_against_market(result_classical, stock_prices)\n",
      "  Input \u001b[0;32mIn [8]\u001b[0m in \u001b[0;35mplot_portfolio_against_market\u001b[0m\n",
      "    plt.tight_layout()\n",
      "  File \u001b[0;32m/opt/conda/lib/python3.8/site-packages/matplotlib/pyplot.py:2302\u001b[0m in \u001b[0;35mtight_layout\u001b[0m\n",
      "    return gcf().tight_layout(pad=pad, h_pad=h_pad, w_pad=w_pad, rect=rect)\n",
      "  File \u001b[0;32m/opt/conda/lib/python3.8/site-packages/matplotlib/figure.py:3195\u001b[0m in \u001b[0;35mtight_layout\u001b[0m\n",
      "    renderer = _get_renderer(self)\n",
      "  File \u001b[0;32m/opt/conda/lib/python3.8/site-packages/matplotlib/backend_bases.py:1544\u001b[0m in \u001b[0;35m_get_renderer\u001b[0m\n",
      "    print_method(io.BytesIO())\n",
      "  File \u001b[0;32m/opt/conda/lib/python3.8/site-packages/matplotlib/backend_bases.py:1648\u001b[0m in \u001b[0;35mwrapper\u001b[0m\n",
      "    return func(*args, **kwargs)\n",
      "  File \u001b[0;32m/opt/conda/lib/python3.8/site-packages/matplotlib/_api/deprecation.py:412\u001b[0m in \u001b[0;35mwrapper\u001b[0m\n",
      "    return func(*inner_args, **inner_kwargs)\n",
      "  File \u001b[0;32m/opt/conda/lib/python3.8/site-packages/matplotlib/backends/backend_agg.py:540\u001b[0m in \u001b[0;35mprint_png\u001b[0m\n",
      "    FigureCanvasAgg.draw(self)\n",
      "  File \u001b[0;32m/opt/conda/lib/python3.8/site-packages/matplotlib/backends/backend_agg.py:433\u001b[0m in \u001b[0;35mdraw\u001b[0m\n",
      "    with RendererAgg.lock, \\\n",
      "  File \u001b[0;32m/opt/conda/lib/python3.8/contextlib.py:113\u001b[0m in \u001b[0;35m__enter__\u001b[0m\n",
      "    return next(self.gen)\n",
      "  File \u001b[0;32m/opt/conda/lib/python3.8/site-packages/matplotlib/backend_bases.py:3033\u001b[0m in \u001b[0;35m_wait_cursor_for_draw_cm\u001b[0m\n",
      "    self.canvas.set_cursor(self._lastCursor)\n",
      "  File \u001b[0;32m/opt/conda/lib/python3.8/site-packages/matplotlib/backends/backend_webagg_core.py:210\u001b[0m in \u001b[0;35mset_cursor\u001b[0m\n",
      "    self.send_event('cursor', cursor=cursor)\n",
      "  File \u001b[0;32m/opt/conda/lib/python3.8/site-packages/matplotlib/backends/backend_webagg_core.py:392\u001b[0m in \u001b[0;35msend_event\u001b[0m\n",
      "    self.manager._send_event(event_type, **kwargs)\n",
      "  File \u001b[0;32m/opt/conda/lib/python3.8/site-packages/matplotlib/backends/backend_webagg_core.py:541\u001b[0m in \u001b[0;35m_send_event\u001b[0m\n",
      "    s.send_json(payload)\n",
      "\u001b[1;36m  File \u001b[1;32m/opt/conda/lib/python3.8/site-packages/ipympl/backend_nbagg.py:217\u001b[1;36m in \u001b[1;35msend_json\u001b[1;36m\u001b[0m\n",
      "\u001b[1;33m    self._cursor = cursors_str[content['cursor']]\u001b[0m\n",
      "\u001b[1;31mKeyError\u001b[0m\u001b[1;31m:\u001b[0m 'default'\n",
      "\n",
      "Use %tb to get the full traceback.\n"
     ]
    },
    {
     "data": {
      "text/html": [
       "\n",
       "<style>\n",
       ".button {\n",
       "  border: none;\n",
       "  color: white;\n",
       "  padding: 4px 8px;\n",
       "  text-align: center;\n",
       "  text-decoration: none;\n",
       "  display: inline-block;\n",
       "  font-size: 12px;\n",
       "  margin: 4px 2px;\n",
       "  transition-duration: 0.2s;\n",
       "  cursor: pointer;\n",
       "}\n",
       ".iqx-button {\n",
       "  background-color: #0f62fe; \n",
       "  color: white; \n",
       "}\n",
       ".iqx-button:hover {\n",
       "  background-color: #0043ce;\n",
       "  color: white;\n",
       "}\n",
       "</style>\n",
       "<a href=\"https://stackoverflow.com/search?q=KeyError: default\" target='_blank'><button class='button iqx-button'>Search for solution online</button></a>\n"
      ],
      "text/plain": [
       "<IPython.core.display.HTML object>"
      ]
     },
     "metadata": {},
     "output_type": "display_data"
    }
   ],
   "source": [
    "display_values(result_classical, stocks)\n",
    "plot_portfolio_against_market(result_classical, stock_prices)"
   ]
  },
  {
   "cell_type": "markdown",
   "id": "fe2df8b0-f3d5-4cef-9ef1-3c0abc2a1a3e",
   "metadata": {
    "tags": []
   },
   "source": [
    "# Now it's your turn!\n",
    "\n",
    "## Quantum Solver: VQE\n",
    "\n",
    "Now, let's solve the same problem using VQE. Using the code we used to solve the Knapsack problem in the lab, make a VQE solver using a `EfficientSU2` tunable circuit and the `SPSA` optimiser."
   ]
  },
  {
   "cell_type": "code",
   "execution_count": 13,
   "id": "abf8e96d-7174-4d44-8243-3453cb37a6a6",
   "metadata": {},
   "outputs": [],
   "source": [
    "# Define a VQE solver using the code from the Knapsack problem lab. \n",
    "# Use the EfficientSU2 tunable circuit, and the SPSA optimizer\n",
    "# The number of qubits should be equal to the number of total stocks you want to consider\n"
   ]
  },
  {
   "cell_type": "markdown",
   "id": "3b8b5291-6a29-45ea-9d8f-03f4227b77ef",
   "metadata": {},
   "source": [
    "# Test your Results! \n",
    "Use this block to test your VQE results, does it look the same as the Classical optimizer?"
   ]
  },
  {
   "cell_type": "code",
   "execution_count": 14,
   "id": "fc827c0b-3aa7-4321-91d1-4e071a64afff",
   "metadata": {},
   "outputs": [
    {
     "name": "stdout",
     "output_type": "stream",
     "text": [
      " Optimal Stock Combination: AMZN IBM        \n",
      "\n",
      "------------------------ Top Results ------------------------\n",
      "qubits \t\t selection \t value \t\t probability\n",
      "--------------------------------------------------------------\n",
      "[0 0 1 1 0]      AMZN IBM         -0.0017 \t 0.0215\n",
      "[0 1 0 1 0]      NFLX IBM         -0.0017 \t 0.0527\n",
      "[1 0 0 1 0]      AAPL IBM         -0.0015 \t 0.0264\n",
      "[0 1 1 0 0]      NFLX AMZN        -0.0014 \t 0.0713\n",
      "[1 0 1 0 0]      AAPL AMZN        -0.0012 \t 0.0137\n",
      "--------------------------------------------------------------\n"
     ]
    },
    {
     "data": {
      "application/vnd.jupyter.widget-view+json": {
       "model_id": "a2d00e1e3cb244009e91a6895187972f",
       "version_major": 2,
       "version_minor": 0
      },
      "text/plain": [
       "Canvas(toolbar=Toolbar(toolitems=[('Home', 'Reset original view', 'home', 'home'), ('Back', 'Back to previous …"
      ]
     },
     "metadata": {},
     "output_type": "display_data"
    },
    {
     "name": "stdout",
     "output_type": "stream",
     "text": [
      "Traceback \u001b[1;36m(most recent call last)\u001b[0m:\n",
      "  Input \u001b[0;32mIn [14]\u001b[0m in \u001b[0;35m<cell line: 3>\u001b[0m\n",
      "    plot_portfolio_against_market(result_vqe, stock_prices)\n",
      "  Input \u001b[0;32mIn [8]\u001b[0m in \u001b[0;35mplot_portfolio_against_market\u001b[0m\n",
      "    plt.tight_layout()\n",
      "  File \u001b[0;32m/opt/conda/lib/python3.8/site-packages/matplotlib/pyplot.py:2302\u001b[0m in \u001b[0;35mtight_layout\u001b[0m\n",
      "    return gcf().tight_layout(pad=pad, h_pad=h_pad, w_pad=w_pad, rect=rect)\n",
      "  File \u001b[0;32m/opt/conda/lib/python3.8/site-packages/matplotlib/figure.py:3195\u001b[0m in \u001b[0;35mtight_layout\u001b[0m\n",
      "    renderer = _get_renderer(self)\n",
      "  File \u001b[0;32m/opt/conda/lib/python3.8/site-packages/matplotlib/backend_bases.py:1544\u001b[0m in \u001b[0;35m_get_renderer\u001b[0m\n",
      "    print_method(io.BytesIO())\n",
      "  File \u001b[0;32m/opt/conda/lib/python3.8/site-packages/matplotlib/backend_bases.py:1648\u001b[0m in \u001b[0;35mwrapper\u001b[0m\n",
      "    return func(*args, **kwargs)\n",
      "  File \u001b[0;32m/opt/conda/lib/python3.8/site-packages/matplotlib/_api/deprecation.py:412\u001b[0m in \u001b[0;35mwrapper\u001b[0m\n",
      "    return func(*inner_args, **inner_kwargs)\n",
      "  File \u001b[0;32m/opt/conda/lib/python3.8/site-packages/matplotlib/backends/backend_agg.py:540\u001b[0m in \u001b[0;35mprint_png\u001b[0m\n",
      "    FigureCanvasAgg.draw(self)\n",
      "  File \u001b[0;32m/opt/conda/lib/python3.8/site-packages/matplotlib/backends/backend_agg.py:433\u001b[0m in \u001b[0;35mdraw\u001b[0m\n",
      "    with RendererAgg.lock, \\\n",
      "  File \u001b[0;32m/opt/conda/lib/python3.8/contextlib.py:113\u001b[0m in \u001b[0;35m__enter__\u001b[0m\n",
      "    return next(self.gen)\n",
      "  File \u001b[0;32m/opt/conda/lib/python3.8/site-packages/matplotlib/backend_bases.py:3033\u001b[0m in \u001b[0;35m_wait_cursor_for_draw_cm\u001b[0m\n",
      "    self.canvas.set_cursor(self._lastCursor)\n",
      "  File \u001b[0;32m/opt/conda/lib/python3.8/site-packages/matplotlib/backends/backend_webagg_core.py:210\u001b[0m in \u001b[0;35mset_cursor\u001b[0m\n",
      "    self.send_event('cursor', cursor=cursor)\n",
      "  File \u001b[0;32m/opt/conda/lib/python3.8/site-packages/matplotlib/backends/backend_webagg_core.py:392\u001b[0m in \u001b[0;35msend_event\u001b[0m\n",
      "    self.manager._send_event(event_type, **kwargs)\n",
      "  File \u001b[0;32m/opt/conda/lib/python3.8/site-packages/matplotlib/backends/backend_webagg_core.py:541\u001b[0m in \u001b[0;35m_send_event\u001b[0m\n",
      "    s.send_json(payload)\n",
      "\u001b[1;36m  File \u001b[1;32m/opt/conda/lib/python3.8/site-packages/ipympl/backend_nbagg.py:217\u001b[1;36m in \u001b[1;35msend_json\u001b[1;36m\u001b[0m\n",
      "\u001b[1;33m    self._cursor = cursors_str[content['cursor']]\u001b[0m\n",
      "\u001b[1;31mKeyError\u001b[0m\u001b[1;31m:\u001b[0m 'default'\n",
      "\n",
      "Use %tb to get the full traceback.\n"
     ]
    },
    {
     "data": {
      "text/html": [
       "\n",
       "<style>\n",
       ".button {\n",
       "  border: none;\n",
       "  color: white;\n",
       "  padding: 4px 8px;\n",
       "  text-align: center;\n",
       "  text-decoration: none;\n",
       "  display: inline-block;\n",
       "  font-size: 12px;\n",
       "  margin: 4px 2px;\n",
       "  transition-duration: 0.2s;\n",
       "  cursor: pointer;\n",
       "}\n",
       ".iqx-button {\n",
       "  background-color: #0f62fe; \n",
       "  color: white; \n",
       "}\n",
       ".iqx-button:hover {\n",
       "  background-color: #0043ce;\n",
       "  color: white;\n",
       "}\n",
       "</style>\n",
       "<a href=\"https://stackoverflow.com/search?q=KeyError: default\" target='_blank'><button class='button iqx-button'>Search for solution online</button></a>\n"
      ],
      "text/plain": [
       "<IPython.core.display.HTML object>"
      ]
     },
     "metadata": {},
     "output_type": "display_data"
    }
   ],
   "source": [
    "# Solve the stock optimization problem using the same code you used in the knapsack problem lab."
   ]
  },
  {
   "cell_type": "code",
   "execution_count": null,
   "id": "0ac2ed1f-5984-4758-92e5-67cc9114e16c",
   "metadata": {},
   "outputs": [],
   "source": []
  }
 ],
 "metadata": {
  "kernelspec": {
   "display_name": "Python 3 (ipykernel)",
   "language": "python",
   "name": "python3"
  },
  "language_info": {
   "codemirror_mode": {
    "name": "ipython",
    "version": 3
   },
   "file_extension": ".py",
   "mimetype": "text/x-python",
   "name": "python",
   "nbconvert_exporter": "python",
   "pygments_lexer": "ipython3",
   "version": "3.9.5"
  },
  "widgets": {
   "application/vnd.jupyter.widget-state+json": {
    "state": {
     "077f8ebf2f3841d89f1eef67044ed0b5": {
      "model_module": "@jupyter-widgets/base",
      "model_module_version": "1.2.0",
      "model_name": "LayoutModel",
      "state": {}
     },
     "10e53ee037f74ac58f5e2ea3314cea22": {
      "model_module": "jupyter-matplotlib",
      "model_module_version": "^0.8.3",
      "model_name": "MPLCanvasModel",
      "state": {
       "_figure_label": "Figure 4",
       "_height": 600,
       "_width": 800,
       "layout": "IPY_MODEL_077f8ebf2f3841d89f1eef67044ed0b5",
       "toolbar": "IPY_MODEL_1a77db0054d44fbaa163d5fc5c9fb9de",
       "toolbar_position": "left"
      }
     },
     "1988cd5998634891a9681ecb1f3e6566": {
      "model_module": "jupyter-matplotlib",
      "model_module_version": "^0.8.3",
      "model_name": "ToolbarModel",
      "state": {
       "layout": "IPY_MODEL_f634b96039ac4050a11512402cc95233",
       "toolitems": [
        [
         "Home",
         "Reset original view",
         "home",
         "home"
        ],
        [
         "Back",
         "Back to previous view",
         "arrow-left",
         "back"
        ],
        [
         "Forward",
         "Forward to next view",
         "arrow-right",
         "forward"
        ],
        [
         "Pan",
         "Left button pans, Right button zooms\nx/y fixes axis, CTRL fixes aspect",
         "arrows",
         "pan"
        ],
        [
         "Zoom",
         "Zoom to rectangle\nx/y fixes axis",
         "square-o",
         "zoom"
        ],
        [
         "Download",
         "Download plot",
         "floppy-o",
         "save_figure"
        ]
       ]
      }
     },
     "1a77db0054d44fbaa163d5fc5c9fb9de": {
      "model_module": "jupyter-matplotlib",
      "model_module_version": "^0.8.3",
      "model_name": "ToolbarModel",
      "state": {
       "layout": "IPY_MODEL_e23eeb3c3f8a4b4d9354d11e057a3c16",
       "toolitems": [
        [
         "Home",
         "Reset original view",
         "home",
         "home"
        ],
        [
         "Back",
         "Back to previous view",
         "arrow-left",
         "back"
        ],
        [
         "Forward",
         "Forward to next view",
         "arrow-right",
         "forward"
        ],
        [
         "Pan",
         "Left button pans, Right button zooms\nx/y fixes axis, CTRL fixes aspect",
         "arrows",
         "pan"
        ],
        [
         "Zoom",
         "Zoom to rectangle\nx/y fixes axis",
         "square-o",
         "zoom"
        ],
        [
         "Download",
         "Download plot",
         "floppy-o",
         "save_figure"
        ]
       ]
      }
     },
     "2067e7594789468c8d7dd72a97a5f96f": {
      "model_module": "@jupyter-widgets/base",
      "model_module_version": "1.2.0",
      "model_name": "LayoutModel",
      "state": {}
     },
     "2ee9cf6f780545b0940b3ed813d9dc36": {
      "model_module": "jupyter-matplotlib",
      "model_module_version": "^0.8.3",
      "model_name": "ToolbarModel",
      "state": {
       "layout": "IPY_MODEL_ac9c3120336c48b7b6764c9bba8e072c",
       "toolitems": [
        [
         "Home",
         "Reset original view",
         "home",
         "home"
        ],
        [
         "Back",
         "Back to previous view",
         "arrow-left",
         "back"
        ],
        [
         "Forward",
         "Forward to next view",
         "arrow-right",
         "forward"
        ],
        [
         "Pan",
         "Left button pans, Right button zooms\nx/y fixes axis, CTRL fixes aspect",
         "arrows",
         "pan"
        ],
        [
         "Zoom",
         "Zoom to rectangle\nx/y fixes axis",
         "square-o",
         "zoom"
        ],
        [
         "Download",
         "Download plot",
         "floppy-o",
         "save_figure"
        ]
       ]
      }
     },
     "4bd082afb6da46018afc5595401a657b": {
      "model_module": "jupyter-matplotlib",
      "model_module_version": "^0.8.3",
      "model_name": "MPLCanvasModel",
      "state": {
       "_figure_label": "Figure 3",
       "_height": 600,
       "_width": 800,
       "layout": "IPY_MODEL_5b303044323f40b1950f3892520738d7",
       "toolbar": "IPY_MODEL_2ee9cf6f780545b0940b3ed813d9dc36",
       "toolbar_position": "left"
      }
     },
     "5b303044323f40b1950f3892520738d7": {
      "model_module": "@jupyter-widgets/base",
      "model_module_version": "1.2.0",
      "model_name": "LayoutModel",
      "state": {}
     },
     "7c2c937180304fd2b72a0e5217610b61": {
      "model_module": "jupyter-matplotlib",
      "model_module_version": "^0.8.3",
      "model_name": "MPLCanvasModel",
      "state": {
       "_figure_label": "Figure 1",
       "_height": 600,
       "_image_mode": "diff",
       "_width": 800,
       "layout": "IPY_MODEL_7db341e22c284d719fa2d1a4f0200a99",
       "toolbar": "IPY_MODEL_1988cd5998634891a9681ecb1f3e6566",
       "toolbar_position": "left"
      }
     },
     "7db341e22c284d719fa2d1a4f0200a99": {
      "model_module": "@jupyter-widgets/base",
      "model_module_version": "1.2.0",
      "model_name": "LayoutModel",
      "state": {}
     },
     "a2d00e1e3cb244009e91a6895187972f": {
      "model_module": "jupyter-matplotlib",
      "model_module_version": "^0.8.3",
      "model_name": "MPLCanvasModel",
      "state": {
       "_figure_label": "Figure 5",
       "_height": 600,
       "_width": 800,
       "layout": "IPY_MODEL_dc9ba03962cc456bbd33244fc354907c",
       "toolbar": "IPY_MODEL_aee74c5cf5054ba3b9370a4691e042fe",
       "toolbar_position": "left"
      }
     },
     "a3160c9f0bb24b99894ec1ee37265219": {
      "model_module": "jupyter-matplotlib",
      "model_module_version": "^0.8.3",
      "model_name": "ToolbarModel",
      "state": {
       "layout": "IPY_MODEL_2067e7594789468c8d7dd72a97a5f96f",
       "toolitems": [
        [
         "Home",
         "Reset original view",
         "home",
         "home"
        ],
        [
         "Back",
         "Back to previous view",
         "arrow-left",
         "back"
        ],
        [
         "Forward",
         "Forward to next view",
         "arrow-right",
         "forward"
        ],
        [
         "Pan",
         "Left button pans, Right button zooms\nx/y fixes axis, CTRL fixes aspect",
         "arrows",
         "pan"
        ],
        [
         "Zoom",
         "Zoom to rectangle\nx/y fixes axis",
         "square-o",
         "zoom"
        ],
        [
         "Download",
         "Download plot",
         "floppy-o",
         "save_figure"
        ]
       ]
      }
     },
     "ac9c3120336c48b7b6764c9bba8e072c": {
      "model_module": "@jupyter-widgets/base",
      "model_module_version": "1.2.0",
      "model_name": "LayoutModel",
      "state": {}
     },
     "aee74c5cf5054ba3b9370a4691e042fe": {
      "model_module": "jupyter-matplotlib",
      "model_module_version": "^0.8.3",
      "model_name": "ToolbarModel",
      "state": {
       "layout": "IPY_MODEL_f301a6cf4b26482dbc78d80dc1c90403",
       "toolitems": [
        [
         "Home",
         "Reset original view",
         "home",
         "home"
        ],
        [
         "Back",
         "Back to previous view",
         "arrow-left",
         "back"
        ],
        [
         "Forward",
         "Forward to next view",
         "arrow-right",
         "forward"
        ],
        [
         "Pan",
         "Left button pans, Right button zooms\nx/y fixes axis, CTRL fixes aspect",
         "arrows",
         "pan"
        ],
        [
         "Zoom",
         "Zoom to rectangle\nx/y fixes axis",
         "square-o",
         "zoom"
        ],
        [
         "Download",
         "Download plot",
         "floppy-o",
         "save_figure"
        ]
       ]
      }
     },
     "b188bf4a15ec4938ae220123ca45a681": {
      "model_module": "jupyter-matplotlib",
      "model_module_version": "^0.8.3",
      "model_name": "MPLCanvasModel",
      "state": {
       "_figure_label": "Figure 2",
       "_height": 600,
       "_message": "x=2016-09 y=1.076",
       "_width": 800,
       "layout": "IPY_MODEL_d0faa74edd914ad3b07ebdd676d56f21",
       "toolbar": "IPY_MODEL_a3160c9f0bb24b99894ec1ee37265219",
       "toolbar_position": "left"
      }
     },
     "d0faa74edd914ad3b07ebdd676d56f21": {
      "model_module": "@jupyter-widgets/base",
      "model_module_version": "1.2.0",
      "model_name": "LayoutModel",
      "state": {}
     },
     "dc9ba03962cc456bbd33244fc354907c": {
      "model_module": "@jupyter-widgets/base",
      "model_module_version": "1.2.0",
      "model_name": "LayoutModel",
      "state": {}
     },
     "e23eeb3c3f8a4b4d9354d11e057a3c16": {
      "model_module": "@jupyter-widgets/base",
      "model_module_version": "1.2.0",
      "model_name": "LayoutModel",
      "state": {}
     },
     "f301a6cf4b26482dbc78d80dc1c90403": {
      "model_module": "@jupyter-widgets/base",
      "model_module_version": "1.2.0",
      "model_name": "LayoutModel",
      "state": {}
     },
     "f634b96039ac4050a11512402cc95233": {
      "model_module": "@jupyter-widgets/base",
      "model_module_version": "1.2.0",
      "model_name": "LayoutModel",
      "state": {}
     }
    },
    "version_major": 2,
    "version_minor": 0
   }
  }
 },
 "nbformat": 4,
 "nbformat_minor": 5
}

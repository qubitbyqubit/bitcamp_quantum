{
 "cells": [
  {
   "cell_type": "markdown",
   "id": "331d8bd7-fa2f-4ab5-a0f4-dbe2c1c60300",
   "metadata": {},
   "source": [
    "<div class=\"alert alert-info\">\n",
    "    <h1><strong>Welcome to the Quantum Track of the Bitcamp Hackathon!</strong></h1>\n",
    "    <h2>Hopefully you see a folder on the left containing all of the Hacking materials!</h2>\n",
    "</div>"
   ]
  },
  {
   "cell_type": "markdown",
   "id": "c02a3008-5561-44f5-9256-c799b2021a03",
   "metadata": {},
   "source": [
    "## How the Quantum Track works\n",
    "\n",
    "1. Attend the 4 workshops, they will be part presentation, part code lab\n",
    "2. Attempt the Challenge notebooks, complete at least 4 to get full credit!\n",
    "3. Enjoy learning about Quantum Computing!\n",
    "\n",
    "### On the left there are three folders\n",
    "`challenges` This is where the Challenge notebooks live - try and solve all 4\n",
    "\n",
    "`workshops`  This is the where workshop notebooks live - Use them to follow along during the presentations"
   ]
  },
  {
   "cell_type": "markdown",
   "id": "ac790a0f",
   "metadata": {},
   "source": [
    "# Be sure to keep this link handy:\n",
    "[www.bit.ly/bitcamp_quantum](https://www.bit.ly/bitcamp_quantum)"
   ]
  }
 ],
 "metadata": {
  "kernelspec": {
   "display_name": "Python 3 (ipykernel)",
   "language": "python",
   "name": "python3"
  },
  "language_info": {
   "codemirror_mode": {
    "name": "ipython",
    "version": 3
   },
   "file_extension": ".py",
   "mimetype": "text/x-python",
   "name": "python",
   "nbconvert_exporter": "python",
   "pygments_lexer": "ipython3",
   "version": "3.9.7"
  },
  "widgets": {
   "application/vnd.jupyter.widget-state+json": {
    "state": {},
    "version_major": 2,
    "version_minor": 0
   }
  }
 },
 "nbformat": 4,
 "nbformat_minor": 5
}

{
 "cells": [
  {
   "cell_type": "markdown",
   "id": "331d8bd7-fa2f-4ab5-a0f4-dbe2c1c60300",
   "metadata": {},
   "source": [
    "# Welcome to the Quantum Track of the Bitcamp Hackathon!\n",
    "\n",
    "## Hopefully you see a folder on the left containing all of the Hacking materials!\n",
    "\n",
    "A few administration things first:"
   ]
  },
  {
   "cell_type": "code",
   "execution_count": null,
   "id": "10e8640e-d6b5-4889-b0a9-fed45ac16d91",
   "metadata": {},
   "outputs": [],
   "source": [
    "# Replace the \"firstname lastname\" with your first and last name!\n",
    "from checker.check import set_name\n",
    "set_name(\"firstname lastname\")"
   ]
  },
  {
   "cell_type": "markdown",
   "id": "c02a3008-5561-44f5-9256-c799b2021a03",
   "metadata": {},
   "source": [
    "## How the Quantum Track works\n",
    "\n",
    "1. Attend the 4 workshops, they will be part presentation, part code lab\n",
    "2. Attempt the Challenge notebooks, complete at least 4 to get full credit!\n",
    "3. Enjoy learning about Quantum Computing!\n",
    "\n",
    "### On the left there are three folders\n",
    "`challenges` This is where the Challenge notebooks live - try and solve all 4\n",
    "`workshops`  This is the where workshop notebooks live - Use them to follow along during the presentations\n",
    "`checker`    This is the grading module, you don't need to worry about it!"
   ]
  }
 ],
 "metadata": {
  "kernelspec": {
   "display_name": "Python 3 (ipykernel)",
   "language": "python",
   "name": "python3"
  },
  "language_info": {
   "codemirror_mode": {
    "name": "ipython",
    "version": 3
   },
   "file_extension": ".py",
   "mimetype": "text/x-python",
   "name": "python",
   "nbconvert_exporter": "python",
   "pygments_lexer": "ipython3",
   "version": "3.9.5"
  },
  "widgets": {
   "application/vnd.jupyter.widget-state+json": {
    "state": {
     "0e588dbec77e4928843d8b7043907e8f": {
      "model_module": "@jupyter-widgets/base",
      "model_module_version": "1.2.0",
      "model_name": "LayoutModel",
      "state": {
       "width": "145px"
      }
     },
     "162e3af3f9294b00bc7dfdf8aa6b76a0": {
      "model_module": "@jupyter-widgets/controls",
      "model_module_version": "1.5.0",
      "model_name": "ButtonModel",
      "state": {
       "button_style": "primary",
       "description": "Clear",
       "layout": "IPY_MODEL_bb98c11b32bb44289727fbaab1700f68",
       "style": "IPY_MODEL_63f9e6f20325488caa0426ddce6771cd"
      }
     },
     "32920f2ccb784c00ab94578c8066a52e": {
      "model_module": "@jupyter-widgets/controls",
      "model_module_version": "1.5.0",
      "model_name": "DescriptionStyleModel",
      "state": {
       "description_width": ""
      }
     },
     "3794abb9e9694abda2c558ef2923cec6": {
      "model_module": "@jupyter-widgets/controls",
      "model_module_version": "1.5.0",
      "model_name": "HTMLModel",
      "state": {
       "layout": "IPY_MODEL_f224865ebbfd47f0a12fbde09db07598",
       "style": "IPY_MODEL_41659c55f04e46a7853b99eea488958a",
       "value": "<h5>Queue</h5>"
      }
     },
     "41659c55f04e46a7853b99eea488958a": {
      "model_module": "@jupyter-widgets/controls",
      "model_module_version": "1.5.0",
      "model_name": "DescriptionStyleModel",
      "state": {
       "description_width": ""
      }
     },
     "4d76a9c98b324ccc97b337edf6d0388b": {
      "model_module": "@jupyter-widgets/controls",
      "model_module_version": "1.5.0",
      "model_name": "DescriptionStyleModel",
      "state": {
       "description_width": ""
      }
     },
     "55fe9f70fe9a44b08852361dd62421a6": {
      "model_module": "@jupyter-widgets/base",
      "model_module_version": "1.2.0",
      "model_name": "LayoutModel",
      "state": {}
     },
     "57090dbdeb3043fcaf59814dece06a6f": {
      "model_module": "@jupyter-widgets/controls",
      "model_module_version": "1.5.0",
      "model_name": "HTMLModel",
      "state": {
       "layout": "IPY_MODEL_55fe9f70fe9a44b08852361dd62421a6",
       "style": "IPY_MODEL_d1bc0b0efc5947ef94ee479fa2c1fb76",
       "value": "<h5>Message</h5>"
      }
     },
     "58d31477fad446e1bf1d2dcf028547e8": {
      "model_module": "@jupyter-widgets/controls",
      "model_module_version": "1.5.0",
      "model_name": "HBoxModel",
      "state": {
       "children": [
        "IPY_MODEL_d34b69cb66b240c0ad88fdb1d14d08f6",
        "IPY_MODEL_f6b88ace666e4291a00c0cfba40ebbed",
        "IPY_MODEL_dcb4558fe697495e9de912e3cebac691",
        "IPY_MODEL_3794abb9e9694abda2c558ef2923cec6",
        "IPY_MODEL_57090dbdeb3043fcaf59814dece06a6f"
       ],
       "layout": "IPY_MODEL_6aafb69e99ce48798f029cf2ac11fe8f"
      }
     },
     "63f9e6f20325488caa0426ddce6771cd": {
      "model_module": "@jupyter-widgets/controls",
      "model_module_version": "1.5.0",
      "model_name": "ButtonStyleModel",
      "state": {}
     },
     "65ff46f3925e49c4827ab81405953733": {
      "model_module": "@jupyter-widgets/base",
      "model_module_version": "1.2.0",
      "model_name": "LayoutModel",
      "state": {
       "grid_template_areas": "\n                                       \". . . . right \"\n                                        ",
       "grid_template_columns": "20% 20% 20% 20% 20%",
       "width": "100%"
      }
     },
     "6a3bde0863c84a47a3fd3ff8fdedc544": {
      "model_module": "@jupyter-widgets/controls",
      "model_module_version": "1.5.0",
      "model_name": "GridBoxModel",
      "state": {
       "children": [
        "IPY_MODEL_162e3af3f9294b00bc7dfdf8aa6b76a0"
       ],
       "layout": "IPY_MODEL_65ff46f3925e49c4827ab81405953733"
      }
     },
     "6aafb69e99ce48798f029cf2ac11fe8f": {
      "model_module": "@jupyter-widgets/base",
      "model_module_version": "1.2.0",
      "model_name": "LayoutModel",
      "state": {
       "margin": "0px 0px 0px 37px",
       "width": "600px"
      }
     },
     "87483a8f405d44ae87a4d4d49d1aea1f": {
      "model_module": "@jupyter-widgets/base",
      "model_module_version": "1.2.0",
      "model_name": "LayoutModel",
      "state": {
       "width": "95px"
      }
     },
     "9880031b78ff4aa5b646909e079907ae": {
      "model_module": "@jupyter-widgets/base",
      "model_module_version": "1.2.0",
      "model_name": "LayoutModel",
      "state": {
       "width": "190px"
      }
     },
     "9f244c21ace241abafa769b06a0ec6c4": {
      "model_module": "@jupyter-widgets/base",
      "model_module_version": "1.2.0",
      "model_name": "LayoutModel",
      "state": {
       "margin": "0px 0px 10px 0px"
      }
     },
     "ad4b119958bd4077a04b86c9ee17f2f1": {
      "model_module": "@jupyter-widgets/controls",
      "model_module_version": "1.5.0",
      "model_name": "DescriptionStyleModel",
      "state": {
       "description_width": ""
      }
     },
     "bb98c11b32bb44289727fbaab1700f68": {
      "model_module": "@jupyter-widgets/base",
      "model_module_version": "1.2.0",
      "model_name": "LayoutModel",
      "state": {
       "grid_area": "right",
       "padding": "0px 0px 0px 0px",
       "width": "70px"
      }
     },
     "bcfc16e07c35439dbf4125daeb4c3010": {
      "model_module": "@jupyter-widgets/controls",
      "model_module_version": "1.5.0",
      "model_name": "DescriptionStyleModel",
      "state": {
       "description_width": ""
      }
     },
     "c289446aa49e4a31930fc484e0414ce3": {
      "model_module": "@jupyter-widgets/controls",
      "model_module_version": "1.5.0",
      "model_name": "HTMLModel",
      "state": {
       "layout": "IPY_MODEL_9f244c21ace241abafa769b06a0ec6c4",
       "style": "IPY_MODEL_32920f2ccb784c00ab94578c8066a52e",
       "value": "<p style='font-family: IBM Plex Sans, Arial, Helvetica, sans-serif; font-size: 20px; font-weight: medium;'>Circuit Properties</p>"
      }
     },
     "d1bc0b0efc5947ef94ee479fa2c1fb76": {
      "model_module": "@jupyter-widgets/controls",
      "model_module_version": "1.5.0",
      "model_name": "DescriptionStyleModel",
      "state": {
       "description_width": ""
      }
     },
     "d34b69cb66b240c0ad88fdb1d14d08f6": {
      "model_module": "@jupyter-widgets/controls",
      "model_module_version": "1.5.0",
      "model_name": "HTMLModel",
      "state": {
       "layout": "IPY_MODEL_9880031b78ff4aa5b646909e079907ae",
       "style": "IPY_MODEL_bcfc16e07c35439dbf4125daeb4c3010",
       "value": "<h5>Job ID</h5>"
      }
     },
     "dcb4558fe697495e9de912e3cebac691": {
      "model_module": "@jupyter-widgets/controls",
      "model_module_version": "1.5.0",
      "model_name": "HTMLModel",
      "state": {
       "layout": "IPY_MODEL_87483a8f405d44ae87a4d4d49d1aea1f",
       "style": "IPY_MODEL_4d76a9c98b324ccc97b337edf6d0388b",
       "value": "<h5>Status</h5>"
      }
     },
     "f224865ebbfd47f0a12fbde09db07598": {
      "model_module": "@jupyter-widgets/base",
      "model_module_version": "1.2.0",
      "model_name": "LayoutModel",
      "state": {
       "width": "70px"
      }
     },
     "f6b88ace666e4291a00c0cfba40ebbed": {
      "model_module": "@jupyter-widgets/controls",
      "model_module_version": "1.5.0",
      "model_name": "HTMLModel",
      "state": {
       "layout": "IPY_MODEL_0e588dbec77e4928843d8b7043907e8f",
       "style": "IPY_MODEL_ad4b119958bd4077a04b86c9ee17f2f1",
       "value": "<h5>Backend</h5>"
      }
     }
    },
    "version_major": 2,
    "version_minor": 0
   }
  }
 },
 "nbformat": 4,
 "nbformat_minor": 5
}
